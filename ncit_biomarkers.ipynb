{
 "cells": [
  {
   "cell_type": "code",
   "execution_count": null,
   "metadata": {},
   "outputs": [],
   "source": [
    "import pandas as pd\n",
    "\n",
    "import ncit_utils"
   ]
  },
  {
   "cell_type": "markdown",
   "metadata": {},
   "source": [
    "#### Load in the Thesaurus"
   ]
  },
  {
   "cell_type": "code",
   "execution_count": null,
   "metadata": {},
   "outputs": [],
   "source": [
    "ncit = ncit_utils.load_ncit() "
   ]
  },
  {
   "cell_type": "markdown",
   "metadata": {},
   "source": [
    "#### Flatten the input (code -> parent)"
   ]
  },
  {
   "cell_type": "code",
   "execution_count": null,
   "metadata": {},
   "outputs": [],
   "source": [
    "multiparents = ncit[ncit[\"parents\"].str.contains(\"\\|\")]\n",
    "singleparents = ncit[~ncit[\"parents\"].str.contains(\"\\|\")]\n",
    "singleparents = singleparents.rename(columns={\"parents\": \"parent\"})\n",
    "\n",
    "flattened = []\n",
    "for idx, row in multiparents.iterrows():\n",
    "    parents_df = row[\"parents\"].split(\"|\")\n",
    "    for p in parents_df:\n",
    "        rcopy = row.copy()\n",
    "        rcopy[\"parent\"] = p\n",
    "        rcopy = rcopy.drop(labels=[\"parents\"])\n",
    "        flattened.append(rcopy)\n",
    "\n",
    "parent_codes_df = pd.DataFrame(flattened).reset_index(drop=True)\n",
    "\n",
    "parents_df = pd.concat([singleparents, parent_codes_df]).loc[:, [\"code\", \"parent\"]]\n",
    "display(parents_df[parents_df[\"code\"].duplicated(keep=False)].head())"
   ]
  },
  {
   "cell_type": "markdown",
   "metadata": {},
   "source": [
    "#### Constrain the starting codes to just those in CTRP Biomarker Terminology subset"
   ]
  },
  {
   "cell_type": "code",
   "execution_count": null,
   "metadata": {},
   "outputs": [],
   "source": [
    "biomarker_codes = ncit[\"code\"][\n",
    "    ncit[\"concept in subset\"].str.contains(\"CTRP Biomarker Terminology\", case=False)\n",
    "]\n",
    "print(biomarker_codes.shape)\n",
    "print(biomarker_codes.unique().shape)"
   ]
  },
  {
   "cell_type": "markdown",
   "metadata": {},
   "source": [
    "#### Construct the lookup for code -> child"
   ]
  },
  {
   "cell_type": "code",
   "execution_count": null,
   "metadata": {},
   "outputs": [],
   "source": [
    "logfile = open(\"logfile.log\", \"w\")\n",
    "global_visited = set()\n",
    "\n",
    "def t(code: str, children: set):\n",
    "    if not code:\n",
    "        return\n",
    "    if code in global_visited:\n",
    "        return\n",
    "    global_visited.add(code)\n",
    "    logfile.write(f\"visiting {code}\\n\")\n",
    "    child_codes = parents_df[\"code\"][parents_df[\"parent\"] == code]\n",
    "    if child_codes.any():\n",
    "        child_codes.apply(children.add)\n",
    "        child_codes.apply(t, args=(children,))\n",
    "    else:\n",
    "        return\n",
    "\n",
    "\n",
    "mapping = {}\n",
    "for biomarker_code in biomarker_codes:\n",
    "    mapping[biomarker_code] = set()\n",
    "    t(biomarker_code, mapping[biomarker_code])\n",
    "\n",
    "logfile.close()"
   ]
  }
 ],
 "metadata": {
  "kernelspec": {
   "display_name": "venv",
   "language": "python",
   "name": "python3"
  },
  "language_info": {
   "codemirror_mode": {
    "name": "ipython",
    "version": 3
   },
   "file_extension": ".py",
   "mimetype": "text/x-python",
   "name": "python",
   "nbconvert_exporter": "python",
   "pygments_lexer": "ipython3",
   "version": "3.9.18"
  }
 },
 "nbformat": 4,
 "nbformat_minor": 2
}
