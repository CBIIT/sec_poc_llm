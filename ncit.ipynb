{
 "cells": [
  {
   "cell_type": "code",
   "execution_count": 2,
   "metadata": {},
   "outputs": [],
   "source": [
    "from pathlib import Path\n",
    "\n",
    "import pandas as pd"
   ]
  },
  {
   "cell_type": "markdown",
   "metadata": {},
   "source": [
    "#### Load in the Thesaurus"
   ]
  },
  {
   "cell_type": "code",
   "execution_count": 4,
   "metadata": {},
   "outputs": [
    {
     "name": "stdout",
     "output_type": "stream",
     "text": [
      "Downloading Thesaurus_24.02d\n",
      "  % Total    % Received % Xferd  Average Speed   Time    Time     Time  Current\n",
      "                                 Dload  Upload   Total   Spent    Left  Speed\n",
      "100 14.4M  100 14.4M    0     0  9565k      0  0:00:01  0:00:01 --:--:-- 9565k\n",
      "Archive:  Thesaurus_24.02d.FLAT.zip\n",
      "  inflating: Thesaurus.txt           \n"
     ]
    },
    {
     "data": {
      "text/html": [
       "<div>\n",
       "<style scoped>\n",
       "    .dataframe tbody tr th:only-of-type {\n",
       "        vertical-align: middle;\n",
       "    }\n",
       "\n",
       "    .dataframe tbody tr th {\n",
       "        vertical-align: top;\n",
       "    }\n",
       "\n",
       "    .dataframe thead th {\n",
       "        text-align: right;\n",
       "    }\n",
       "</style>\n",
       "<table border=\"1\" class=\"dataframe\">\n",
       "  <thead>\n",
       "    <tr style=\"text-align: right;\">\n",
       "      <th></th>\n",
       "      <th>concept IRI</th>\n",
       "      <th>parents</th>\n",
       "      <th>synonyms</th>\n",
       "      <th>definition</th>\n",
       "      <th>display name</th>\n",
       "      <th>concept status</th>\n",
       "      <th>semantic type</th>\n",
       "      <th>concept in subset</th>\n",
       "    </tr>\n",
       "    <tr>\n",
       "      <th>code</th>\n",
       "      <th></th>\n",
       "      <th></th>\n",
       "      <th></th>\n",
       "      <th></th>\n",
       "      <th></th>\n",
       "      <th></th>\n",
       "      <th></th>\n",
       "      <th></th>\n",
       "    </tr>\n",
       "  </thead>\n",
       "  <tbody>\n",
       "    <tr>\n",
       "      <th>C100000</th>\n",
       "      <td>&lt;http://ncicb.nci.nih.gov/xml/owl/EVS/Thesauru...</td>\n",
       "      <td>C99521</td>\n",
       "      <td>Percutaneous Coronary Intervention for ST Elev...</td>\n",
       "      <td>A percutaneous coronary intervention is necess...</td>\n",
       "      <td>NaN</td>\n",
       "      <td>NaN</td>\n",
       "      <td>Therapeutic or Preventive Procedure</td>\n",
       "      <td>CDISC SDTM Cardiac Procedure Indication Termin...</td>\n",
       "    </tr>\n",
       "    <tr>\n",
       "      <th>C100001</th>\n",
       "      <td>&lt;http://ncicb.nci.nih.gov/xml/owl/EVS/Thesauru...</td>\n",
       "      <td>C99521</td>\n",
       "      <td>Percutaneous Coronary Intervention for ST Elev...</td>\n",
       "      <td>A percutaneous coronary intervention is necess...</td>\n",
       "      <td>NaN</td>\n",
       "      <td>NaN</td>\n",
       "      <td>Therapeutic or Preventive Procedure</td>\n",
       "      <td>CDISC SDTM Cardiac Procedure Indication Termin...</td>\n",
       "    </tr>\n",
       "    <tr>\n",
       "      <th>C100002</th>\n",
       "      <td>&lt;http://ncicb.nci.nih.gov/xml/owl/EVS/Thesauru...</td>\n",
       "      <td>C99521</td>\n",
       "      <td>Percutaneous Coronary Intervention for ST Elev...</td>\n",
       "      <td>A percutaneous coronary intervention is necess...</td>\n",
       "      <td>NaN</td>\n",
       "      <td>NaN</td>\n",
       "      <td>Therapeutic or Preventive Procedure</td>\n",
       "      <td>CDISC SDTM Cardiac Procedure Indication Termin...</td>\n",
       "    </tr>\n",
       "    <tr>\n",
       "      <th>C100003</th>\n",
       "      <td>&lt;http://ncicb.nci.nih.gov/xml/owl/EVS/Thesauru...</td>\n",
       "      <td>C80449</td>\n",
       "      <td>Percutaneous Mitral Valve Repair|PERCUTANEOUS ...</td>\n",
       "      <td>Invasive procedure through a puncture in the s...</td>\n",
       "      <td>NaN</td>\n",
       "      <td>NaN</td>\n",
       "      <td>Therapeutic or Preventive Procedure</td>\n",
       "      <td>CDISC SDTM Procedure Terminology|CDISC SDTM Te...</td>\n",
       "    </tr>\n",
       "    <tr>\n",
       "      <th>C100004</th>\n",
       "      <td>&lt;http://ncicb.nci.nih.gov/xml/owl/EVS/Thesauru...</td>\n",
       "      <td>C80430</td>\n",
       "      <td>Pericardial Stripping|PERICARDIAL STRIPPING</td>\n",
       "      <td>Removal or resection of the pericardium. (ACC)</td>\n",
       "      <td>NaN</td>\n",
       "      <td>NaN</td>\n",
       "      <td>Therapeutic or Preventive Procedure</td>\n",
       "      <td>CDISC SDTM Procedure Terminology|CDISC SDTM Te...</td>\n",
       "    </tr>\n",
       "  </tbody>\n",
       "</table>\n",
       "</div>"
      ],
      "text/plain": [
       "                                               concept IRI parents  \\\n",
       "code                                                                 \n",
       "C100000  <http://ncicb.nci.nih.gov/xml/owl/EVS/Thesauru...  C99521   \n",
       "C100001  <http://ncicb.nci.nih.gov/xml/owl/EVS/Thesauru...  C99521   \n",
       "C100002  <http://ncicb.nci.nih.gov/xml/owl/EVS/Thesauru...  C99521   \n",
       "C100003  <http://ncicb.nci.nih.gov/xml/owl/EVS/Thesauru...  C80449   \n",
       "C100004  <http://ncicb.nci.nih.gov/xml/owl/EVS/Thesauru...  C80430   \n",
       "\n",
       "                                                  synonyms  \\\n",
       "code                                                         \n",
       "C100000  Percutaneous Coronary Intervention for ST Elev...   \n",
       "C100001  Percutaneous Coronary Intervention for ST Elev...   \n",
       "C100002  Percutaneous Coronary Intervention for ST Elev...   \n",
       "C100003  Percutaneous Mitral Valve Repair|PERCUTANEOUS ...   \n",
       "C100004        Pericardial Stripping|PERICARDIAL STRIPPING   \n",
       "\n",
       "                                                definition display name  \\\n",
       "code                                                                      \n",
       "C100000  A percutaneous coronary intervention is necess...          NaN   \n",
       "C100001  A percutaneous coronary intervention is necess...          NaN   \n",
       "C100002  A percutaneous coronary intervention is necess...          NaN   \n",
       "C100003  Invasive procedure through a puncture in the s...          NaN   \n",
       "C100004     Removal or resection of the pericardium. (ACC)          NaN   \n",
       "\n",
       "        concept status                        semantic type  \\\n",
       "code                                                          \n",
       "C100000            NaN  Therapeutic or Preventive Procedure   \n",
       "C100001            NaN  Therapeutic or Preventive Procedure   \n",
       "C100002            NaN  Therapeutic or Preventive Procedure   \n",
       "C100003            NaN  Therapeutic or Preventive Procedure   \n",
       "C100004            NaN  Therapeutic or Preventive Procedure   \n",
       "\n",
       "                                         concept in subset  \n",
       "code                                                        \n",
       "C100000  CDISC SDTM Cardiac Procedure Indication Termin...  \n",
       "C100001  CDISC SDTM Cardiac Procedure Indication Termin...  \n",
       "C100002  CDISC SDTM Cardiac Procedure Indication Termin...  \n",
       "C100003  CDISC SDTM Procedure Terminology|CDISC SDTM Te...  \n",
       "C100004  CDISC SDTM Procedure Terminology|CDISC SDTM Te...  "
      ]
     },
     "metadata": {},
     "output_type": "display_data"
    },
    {
     "data": {
      "text/plain": [
       "(189646, 8)"
      ]
     },
     "execution_count": 4,
     "metadata": {},
     "output_type": "execute_result"
    }
   ],
   "source": [
    "\n",
    "thesaurusf = Path('Thesaurus.txt')\n",
    "thesaurus_version = 'Thesaurus_24.02d' \n",
    "\n",
    "if not thesaurusf.exists():\n",
    "    print(f'Downloading {thesaurus_version}')\n",
    "    !curl -O https://evs.nci.nih.gov/ftp1/NCI_Thesaurus/{thesaurus_version}.FLAT.zip\n",
    "    !unzip {thesaurus_version}.FLAT.zip\n",
    "\n",
    "ncit = pd.read_csv(thesaurusf, sep=\"\\t\", header=None)\n",
    "ncit.columns = [\n",
    "    \"code\",\n",
    "    \"concept IRI\",\n",
    "    \"parents\",\n",
    "    \"synonyms\",\n",
    "    \"definition\",\n",
    "    \"display name\",\n",
    "    \"concept status\",\n",
    "    \"semantic type\",\n",
    "    \"concept in subset\",\n",
    "]\n",
    "ncit = ncit.set_index(\"code\")\n",
    "display(ncit.head())\n",
    "ncit.shape"
   ]
  },
  {
   "cell_type": "markdown",
   "metadata": {},
   "source": [
    "#### Create Node mapping"
   ]
  },
  {
   "cell_type": "code",
   "execution_count": 5,
   "metadata": {},
   "outputs": [],
   "source": [
    "def get_row(code) -> pd.Series:\n",
    "    return ncit.loc[code]"
   ]
  },
  {
   "cell_type": "code",
   "execution_count": 6,
   "metadata": {},
   "outputs": [],
   "source": [
    "NODES_CACHE: dict[str, \"Node\"] = {}\n",
    "\n",
    "\n",
    "class Node:\n",
    "    code: str\n",
    "    parents: list[\"Node\"]\n",
    "    synonyms: set[str]\n",
    "    pref_name: str\n",
    "\n",
    "    def __init__(self, row: pd.Series) -> None:\n",
    "        self.code = row.name\n",
    "        self.parents = []\n",
    "        if pd.notna(row[\"parents\"]):\n",
    "            for parent_code in row[\"parents\"].split(\"|\"):\n",
    "                if parent_code not in NODES_CACHE:\n",
    "                    NODES_CACHE[parent_code] = Node(get_row(parent_code))\n",
    "                self.parents.append(NODES_CACHE[parent_code])\n",
    "        self.synonyms = set()\n",
    "        for synonym in row[\"synonyms\"].split(\"|\"):\n",
    "            self.synonyms.add(synonym)\n",
    "        self.pref_name = row[\"display name\"]\n",
    "\n",
    "    def __str__(self) -> str:\n",
    "        return f\"<{self.code}, {self.pref_name}>\"\n",
    "\n",
    "    def __repr__(self) -> str:\n",
    "        return f\"<{self.code}, {self.pref_name}>\""
   ]
  },
  {
   "cell_type": "code",
   "execution_count": 7,
   "metadata": {},
   "outputs": [
    {
     "data": {
      "text/plain": [
       "189646"
      ]
     },
     "execution_count": 7,
     "metadata": {},
     "output_type": "execute_result"
    }
   ],
   "source": [
    "for code, row in ncit.iterrows():\n",
    "    node = Node(row)\n",
    "    if code not in NODES_CACHE:\n",
    "        NODES_CACHE[code] = node\n",
    "len(NODES_CACHE)"
   ]
  },
  {
   "cell_type": "code",
   "execution_count": 8,
   "metadata": {},
   "outputs": [],
   "source": [
    "del ncit"
   ]
  },
  {
   "cell_type": "markdown",
   "metadata": {},
   "source": [
    "#### Traverse the Node mapping for a certain concept and children"
   ]
  },
  {
   "cell_type": "code",
   "execution_count": 9,
   "metadata": {},
   "outputs": [],
   "source": [
    "from collections import deque\n",
    "\n",
    "\n",
    "def get_children_of_code(nodes: dict[str, Node], code: str):\n",
    "    children = set()\n",
    "    for c, n in nodes.items():\n",
    "        if code in [p.code for p in n.parents]:\n",
    "            children.add(c)\n",
    "    return children\n",
    "\n",
    "\n",
    "def bfs(nodes: dict[str, Node], start_code: str):\n",
    "    visited = []  # Keep track of visited nodes.\n",
    "    queue = deque([start_code])  # Queue initialized with the start node code.\n",
    "    tracking_q = deque([(start_code, None)])\n",
    "\n",
    "    while queue:\n",
    "        current_code = queue.popleft()  # Dequeue a node code.\n",
    "        if current_code not in visited:\n",
    "            visited.append(current_code)\n",
    "\n",
    "            # Add all unvisited children to the queue.\n",
    "            node_children = get_children_of_code(nodes, current_code)\n",
    "            for child_code in node_children:\n",
    "                if child_code not in visited:\n",
    "                    queue.append(child_code)\n",
    "                    tracking_q.append((child_code, current_code))\n",
    "\n",
    "    return visited, tracking_q"
   ]
  },
  {
   "cell_type": "code",
   "execution_count": 10,
   "metadata": {},
   "outputs": [],
   "source": [
    "neoplasm = \"C3262\"\n",
    "visited = bfs(NODES_CACHE, neoplasm)"
   ]
  },
  {
   "cell_type": "code",
   "execution_count": 11,
   "metadata": {},
   "outputs": [],
   "source": [
    "children, children_w_parents = visited"
   ]
  },
  {
   "cell_type": "code",
   "execution_count": 12,
   "metadata": {},
   "outputs": [],
   "source": [
    "# Check that the set of child2parents contains all unique pairs\n",
    "combos = set()\n",
    "for tup in children_w_parents:\n",
    "    combos.add(tup)\n",
    "assert len(combos) == len(children_w_parents)"
   ]
  },
  {
   "cell_type": "markdown",
   "metadata": {},
   "source": [
    "#### Construct the output"
   ]
  },
  {
   "cell_type": "code",
   "execution_count": 19,
   "metadata": {},
   "outputs": [],
   "source": [
    "data = []\n",
    "for idx, (child, parent) in enumerate(children_w_parents):\n",
    "    if not parent:\n",
    "        assert child == neoplasm\n",
    "        continue\n",
    "    child, parent = NODES_CACHE[child], NODES_CACHE[parent]\n",
    "    for syn in child.synonyms:\n",
    "        data.append((idx + 1, syn, child.pref_name, child.code, parent.pref_name, parent.code))"
   ]
  },
  {
   "cell_type": "code",
   "execution_count": 20,
   "metadata": {},
   "outputs": [],
   "source": [
    "output = pd.DataFrame(\n",
    "    data,\n",
    "    columns=[\n",
    "        \"Level\",\n",
    "        \"Disease\",\n",
    "        \"Preferred Term\",\n",
    "        \"Code\",\n",
    "        \"Parent Term\",\n",
    "        \"Parent Term Code\",\n",
    "    ],\n",
    ")"
   ]
  },
  {
   "cell_type": "markdown",
   "metadata": {},
   "source": [
    "#### Call EVS API to get preferred terms"
   ]
  },
  {
   "cell_type": "code",
   "execution_count": 27,
   "metadata": {},
   "outputs": [
    {
     "name": "stdout",
     "output_type": "stream",
     "text": [
      "Using saved preferred_terms.csv\n"
     ]
    },
    {
     "data": {
      "text/html": [
       "<div>\n",
       "<style scoped>\n",
       "    .dataframe tbody tr th:only-of-type {\n",
       "        vertical-align: middle;\n",
       "    }\n",
       "\n",
       "    .dataframe tbody tr th {\n",
       "        vertical-align: top;\n",
       "    }\n",
       "\n",
       "    .dataframe thead th {\n",
       "        text-align: right;\n",
       "    }\n",
       "</style>\n",
       "<table border=\"1\" class=\"dataframe\">\n",
       "  <thead>\n",
       "    <tr style=\"text-align: right;\">\n",
       "      <th></th>\n",
       "      <th>pref_name</th>\n",
       "    </tr>\n",
       "    <tr>\n",
       "      <th>code</th>\n",
       "      <th></th>\n",
       "    </tr>\n",
       "  </thead>\n",
       "  <tbody>\n",
       "    <tr>\n",
       "      <th>C114451</th>\n",
       "      <td>Rare Childhood Malignant Neoplasm</td>\n",
       "    </tr>\n",
       "    <tr>\n",
       "      <th>C121786</th>\n",
       "      <td>Mixed Tumor, Not Otherwise Specified</td>\n",
       "    </tr>\n",
       "    <tr>\n",
       "      <th>C100054</th>\n",
       "      <td>Conjunctival Melanocytic Intraepithelial Neopl...</td>\n",
       "    </tr>\n",
       "    <tr>\n",
       "      <th>C168698</th>\n",
       "      <td>Cervical Spine Neoplasm</td>\n",
       "    </tr>\n",
       "    <tr>\n",
       "      <th>C168673</th>\n",
       "      <td>Lumbar Spine Neoplasm</td>\n",
       "    </tr>\n",
       "  </tbody>\n",
       "</table>\n",
       "</div>"
      ],
      "text/plain": [
       "                                                 pref_name\n",
       "code                                                      \n",
       "C114451                  Rare Childhood Malignant Neoplasm\n",
       "C121786               Mixed Tumor, Not Otherwise Specified\n",
       "C100054  Conjunctival Melanocytic Intraepithelial Neopl...\n",
       "C168698                            Cervical Spine Neoplasm\n",
       "C168673                              Lumbar Spine Neoplasm"
      ]
     },
     "metadata": {},
     "output_type": "display_data"
    }
   ],
   "source": [
    "import time\n",
    "import requests\n",
    "\n",
    "\n",
    "num_concepts_per_evs_call = 575\n",
    "concept_list = list(children)\n",
    "\n",
    "\n",
    "def chunks(lst, n):\n",
    "    \"\"\"Yield successive n-sized chunks from lst.\"\"\"\n",
    "    for i in range(0, len(lst), n):\n",
    "        yield lst[i : i + n]\n",
    "\n",
    "\n",
    "concept_url_fstring = (\n",
    "    \"https://api-evsrest.nci.nih.gov/api/v1/concept/ncit?list=%s&include=summary\"\n",
    ")\n",
    "new_column_vals = []\n",
    "chunk_count = 0\n",
    "record_count = 0\n",
    "retry_limit = 3\n",
    "early_break = False\n",
    "\n",
    "pref_termsf = Path(\"preferred_terms.csv\")\n",
    "if not pref_termsf.exists():\n",
    "    print(\"Calling EVS to get preferred terms\")\n",
    "    for ch in chunks(concept_list, num_concepts_per_evs_call):\n",
    "        c_codes = list(ch)\n",
    "        record_count += len(c_codes)\n",
    "        c_codes_string = \",\".join(c_codes)\n",
    "        concept_url_string = concept_url_fstring % (c_codes_string)\n",
    "        retry_count = 0\n",
    "\n",
    "        while retry_count < retry_limit:\n",
    "            try:\n",
    "                r = requests.get(concept_url_string, timeout=(1.0, 15.0))\n",
    "            except requests.exceptions.RequestException as e:\n",
    "                print(\"exception -- \", e)\n",
    "                print(\"sleeping\")\n",
    "                retry_count += 1\n",
    "                if retry_count == retry_limit:\n",
    "                    print(\"retry max limit hit -- bailing out \")\n",
    "                    early_break = True\n",
    "                    break\n",
    "                time.sleep(15)\n",
    "            else:\n",
    "                concept_set = r.json()\n",
    "                for newc in concept_set:\n",
    "                    new_column_vals.append((newc[\"code\"], newc[\"name\"]))\n",
    "\n",
    "                chunk_count = chunk_count + 1\n",
    "                print(\n",
    "                    \"processing chunk \", chunk_count, \" record count = \", record_count\n",
    "                )\n",
    "                break\n",
    "        if early_break:\n",
    "            break\n",
    "\n",
    "    pref_terms_df = pd.DataFrame(data=new_column_vals, columns=[\"code\", \"pref_name\"])\n",
    "    pref_terms_df.to_csv(pref_termsf, index=False)\n",
    "else:\n",
    "    print(f'Using saved {pref_termsf}')\n",
    "    pref_terms_df = pd.read_csv(pref_termsf)\n",
    "\n",
    "pref_terms_df = pref_terms_df.set_index(\"code\")\n",
    "display(pref_terms_df.head())"
   ]
  },
  {
   "cell_type": "markdown",
   "metadata": {},
   "source": [
    "#### Output results"
   ]
  },
  {
   "cell_type": "code",
   "execution_count": 28,
   "metadata": {},
   "outputs": [],
   "source": [
    "output[\"Preferred Term\"] = output.apply(\n",
    "    lambda row: row[\"Preferred Term\"]\n",
    "    if not pd.isna(row[\"Preferred Term\"])\n",
    "    else pref_terms_df.loc[row[\"Code\"]][\"pref_name\"],\n",
    "    axis=1,\n",
    ")\n",
    "output[\"Parent Term\"] = output.apply(\n",
    "    lambda row: row[\"Parent Term\"]\n",
    "    if not pd.isna(row[\"Parent Term\"])\n",
    "    else pref_terms_df.loc[row[\"Code\"]][\"pref_name\"],\n",
    "    axis=1,\n",
    ")\n",
    "assert output[\"Preferred Term\"].hasnans is False\n",
    "assert output[\"Parent Term\"].hasnans is False"
   ]
  },
  {
   "cell_type": "code",
   "execution_count": 35,
   "metadata": {},
   "outputs": [],
   "source": [
    "disease2code = output.loc[:, ['Disease', 'Code']]\n",
    "disease2code.to_csv('disease-code.tsv', sep='\\t', index=False)\n",
    "\n",
    "code2term = output.loc[:, ['Code', 'Preferred Term']].drop_duplicates()\n",
    "code2term.to_csv('code2term.tsv', sep='\\t', index=False)"
   ]
  }
 ],
 "metadata": {
  "kernelspec": {
   "display_name": "venv",
   "language": "python",
   "name": "python3"
  },
  "language_info": {
   "codemirror_mode": {
    "name": "ipython",
    "version": 3
   },
   "file_extension": ".py",
   "mimetype": "text/x-python",
   "name": "python",
   "nbconvert_exporter": "python",
   "pygments_lexer": "ipython3",
   "version": "3.9.18"
  }
 },
 "nbformat": 4,
 "nbformat_minor": 2
}
