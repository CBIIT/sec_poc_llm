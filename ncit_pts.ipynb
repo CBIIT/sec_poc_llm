{
 "cells": [
  {
   "cell_type": "code",
   "execution_count": null,
   "metadata": {},
   "outputs": [],
   "source": [
    "import numpy as np\n",
    "import pandas as pd\n",
    "from tqdm import tqdm\n",
    "\n",
    "import ncit_utils\n",
    "\n",
    "tqdm.pandas()"
   ]
  },
  {
   "cell_type": "markdown",
   "metadata": {},
   "source": [
    "#### Load in the Thesaurus"
   ]
  },
  {
   "cell_type": "code",
   "execution_count": null,
   "metadata": {},
   "outputs": [],
   "source": [
    "ncit = ncit_utils.load_ncit() \n",
    "ncit = ncit.fillna(\"\")"
   ]
  },
  {
   "cell_type": "markdown",
   "metadata": {},
   "source": [
    "#### Flatten the input (code -> parent)"
   ]
  },
  {
   "cell_type": "code",
   "execution_count": null,
   "metadata": {},
   "outputs": [],
   "source": [
    "multiparents = ncit[ncit[\"parents\"].str.contains(\"\\|\")]\n",
    "singleparents = ncit[~ncit[\"parents\"].str.contains(\"\\|\")]\n",
    "singleparents = singleparents.rename(columns={\"parents\": \"parent\"})\n",
    "\n",
    "flattened = []\n",
    "for idx, row in multiparents.iterrows():\n",
    "    parents_df = row[\"parents\"].split(\"|\")\n",
    "    for p in parents_df:\n",
    "        rcopy = row.copy()\n",
    "        rcopy[\"parent\"] = p\n",
    "        rcopy = rcopy.drop(labels=[\"parents\"])\n",
    "        flattened.append(rcopy)\n",
    "\n",
    "parent_codes_df = pd.DataFrame(flattened).reset_index(drop=True)\n",
    "\n",
    "parents_df = pd.concat([singleparents, parent_codes_df]).loc[:, [\"code\", \"parent\"]]\n",
    "display(parents_df[parents_df[\"code\"].duplicated(keep=False)].head())"
   ]
  },
  {
   "cell_type": "markdown",
   "metadata": {},
   "source": [
    "#### Constrain the starting codes to just those in CTRP Agent/Intervention Terminology subset"
   ]
  },
  {
   "cell_type": "code",
   "execution_count": null,
   "metadata": {},
   "outputs": [],
   "source": [
    "print(np.where(\n",
    "    ncit[\"concept in subset\"].str.contains(\"CTRP Agent Terminology\", case=False)\n",
    "    | ncit[\"concept in subset\"].str.contains(\n",
    "        \"CTRP Intervention Terminology\", case=False\n",
    "    )\n",
    ")[0][:3])\n",
    "print(len(np.where(\n",
    "    ncit[\"concept in subset\"].str.contains(\"CTRP Agent Terminology\", case=False)\n",
    "    | ncit[\"concept in subset\"].str.contains(\n",
    "        \"CTRP Intervention Terminology\", case=False\n",
    "    )\n",
    ")[0]))\n",
    "display(ncit.iloc[77])\n",
    "display(ncit.iloc[92])\n",
    "display(ncit.iloc[107])"
   ]
  },
  {
   "cell_type": "code",
   "execution_count": null,
   "metadata": {},
   "outputs": [],
   "source": [
    "pt_codes = ncit[\"code\"][\n",
    "    ncit[\"concept in subset\"].str.contains(\"CTRP Agent Terminology\", case=False) | \n",
    "    ncit[\"concept in subset\"].str.contains(\"CTRP Intervention Terminology\", case=False)\n",
    "]\n",
    "pt_codes_w_parent = parents_df[\n",
    "    parents_df[\"code\"].isin(pt_codes)\n",
    "].reset_index(drop=True)\n",
    "display(pt_codes_w_parent)\n",
    "print(pt_codes_w_parent.drop_duplicates().shape)"
   ]
  },
  {
   "cell_type": "markdown",
   "metadata": {},
   "source": [
    "#### Construct the lookup for code -> child"
   ]
  },
  {
   "cell_type": "code",
   "execution_count": null,
   "metadata": {},
   "outputs": [],
   "source": [
    "logfile = open(\"logfile.log\", \"w\")\n",
    "global_visited = set()\n",
    "\n",
    "\n",
    "def t(code: str, parent: str):\n",
    "    if not code:\n",
    "        return\n",
    "    if (code, parent) in global_visited:\n",
    "        return\n",
    "    global_visited.add((code, parent))\n",
    "    logfile.write(f\"visiting {(code, parent)}\\n\")\n",
    "    # Find all the codes where the code's parent is equal to the input code\n",
    "    child_codes = parents_df[\"code\"][parents_df[\"parent\"] == code]\n",
    "    if child_codes.any():\n",
    "        # Apply to code's children. Code becomes the parent.\n",
    "        child_codes.apply(t, args=(code,))\n",
    "    else:\n",
    "        return\n",
    "\n",
    "for pt_code, parent_code in tqdm(list(pt_codes_w_parent.itertuples(index=False))):\n",
    "    t(pt_code, parent_code)\n",
    "\n",
    "logfile.close()"
   ]
  },
  {
   "cell_type": "markdown",
   "metadata": {},
   "source": [
    "#### Construct the output"
   ]
  },
  {
   "cell_type": "code",
   "execution_count": null,
   "metadata": {},
   "outputs": [],
   "source": [
    "lookups: dict[str, pd.Series] = {}\n",
    "data = []\n",
    "for child, parent in tqdm(global_visited):\n",
    "    if child not in lookups:\n",
    "        child_row = ncit[ncit[\"code\"] == child].iloc[0]\n",
    "        lookups[child] = child_row\n",
    "    if parent not in lookups:\n",
    "        parent_row = ncit[ncit[\"code\"] == parent].iloc[0]\n",
    "        lookups[parent] = parent_row\n",
    "    child_row = lookups[child]\n",
    "    parent_row = lookups[parent]\n",
    "    synonyms = child_row[\"synonyms\"].split(\"|\")\n",
    "    for syn in synonyms:\n",
    "        data.append(\n",
    "            (\n",
    "                syn,\n",
    "                child_row[\"display name\"],\n",
    "                child,\n",
    "                parent_row[\"display name\"],\n",
    "                parent,\n",
    "            )\n",
    "        )\n",
    "output = pd.DataFrame(\n",
    "    data,\n",
    "    columns=[\n",
    "        \"Term\",\n",
    "        \"Preferred Term\",\n",
    "        \"Code\",\n",
    "        \"Parent Term\",\n",
    "        \"Parent Term Code\",\n",
    "    ],\n",
    "    dtype=str,\n",
    ")\n",
    "output.to_csv(\"pts_codes.csv\", index=False)\n",
    "output"
   ]
  },
  {
   "cell_type": "markdown",
   "metadata": {},
   "source": [
    "#### Call EVS API to get preferred terms\n"
   ]
  },
  {
   "cell_type": "code",
   "execution_count": null,
   "metadata": {},
   "outputs": [],
   "source": [
    "pref_term_codes_set = pd.concat([output['Code'], output['Parent Term Code']]).drop_duplicates()\n",
    "pt_terms_df = ncit_utils.EVSConceptsApi.load_terms_w_synonyms(\n",
    "    pref_term_codes_set, \"ncit_output/preferred_terms_pts.csv\"\n",
    ")\n",
    "pt_terms_df = pt_terms_df.dropna(subset=['source'])\n",
    "pt_terms_df"
   ]
  },
  {
   "cell_type": "markdown",
   "metadata": {},
   "source": [
    "#### Apply EVS terms to output"
   ]
  },
  {
   "cell_type": "code",
   "execution_count": null,
   "metadata": {},
   "outputs": [],
   "source": [
    "from collections import defaultdict\n",
    "\n",
    "\n",
    "syn_to_sources = defaultdict(set)\n",
    "\n",
    "for _, row in pt_terms_df.iterrows():\n",
    "    r_code = row[\"code\"]\n",
    "    syn = row[\"synonym\"]\n",
    "    source = row[\"source\"]\n",
    "    syn_to_sources[(r_code, syn)].add(source)\n",
    "\n",
    "\n",
    "def get_sources(row: pd.Series):\n",
    "    as_list = list(syn_to_sources[(row[\"Code\"], row[\"Term\"])])\n",
    "    as_list.sort()\n",
    "    return \",\".join(as_list)\n",
    "\n",
    "\n",
    "output[\"Sources\"] = output[[\"Term\", \"Code\"]].apply(get_sources, axis=1)\n",
    "assert not output[\"Sources\"].isna().any()\n",
    "display(output.head())"
   ]
  },
  {
   "cell_type": "code",
   "execution_count": null,
   "metadata": {},
   "outputs": [],
   "source": [
    "# Use existing pref term if provided by NCIt\n",
    "# Else use the EVS preferred name\n",
    "code_to_term_map = {}\n",
    "\n",
    "\n",
    "def code_to_term(code: str):\n",
    "    if code not in code_to_term_map:\n",
    "        term = pt_terms_df.loc[pt_terms_df[\"code\"] == code, \"name\"].iloc[\n",
    "            0\n",
    "        ]\n",
    "        code_to_term_map[code] = term\n",
    "    return code_to_term_map[code]\n",
    "\n",
    "\n",
    "output[\"Preferred Term\"] = output.progress_apply(\n",
    "    lambda row: row[\"Preferred Term\"]\n",
    "    if row[\"Preferred Term\"]\n",
    "    else code_to_term(row[\"Code\"]),\n",
    "    axis=1,\n",
    ")\n",
    "\n",
    "print(\"Done with Preferred Term.\")\n",
    "\n",
    "output[\"Parent Term\"] = output.progress_apply(\n",
    "    lambda row: row[\"Parent Term\"]\n",
    "    if row[\"Parent Term\"]\n",
    "    else code_to_term(row[\"Parent Term Code\"]),\n",
    "    axis=1,\n",
    ")\n",
    "assert not (output[\"Preferred Term\"] == \"\").any()\n",
    "assert not (output[\"Parent Term\"] == \"\").any()"
   ]
  },
  {
   "cell_type": "code",
   "execution_count": null,
   "metadata": {},
   "outputs": [],
   "source": [
    "print(output.duplicated().sum())\n",
    "print(output.shape)\n",
    "output = output.drop_duplicates()\n",
    "print(output.shape)"
   ]
  },
  {
   "cell_type": "markdown",
   "metadata": {},
   "source": [
    "#### Save the output"
   ]
  },
  {
   "cell_type": "code",
   "execution_count": null,
   "metadata": {},
   "outputs": [],
   "source": [
    "term2code = output.loc[:, [\"Term\", \"Code\"]].drop_duplicates()\n",
    "term2code = term2code.sort_values(by=[\"Term\"])\n",
    "term2code.to_csv(\"pts_syn_2_code.tsv\", sep=\"\\t\", index=False, encoding=\"utf-8\")\n",
    "\n",
    "code2pref_term = output.loc[:, [\"Code\", \"Preferred Term\"]].drop_duplicates()\n",
    "code2pref_term = code2pref_term.sort_values(by=[\"Code\"])\n",
    "code2pref_term.to_csv(\n",
    "    \"pts_code_2_pref_term.tsv\", sep=\"\\t\", index=False, encoding=\"utf-8\"\n",
    ")\n",
    "\n",
    "output.to_csv(\"pts_ncit_concepts.tsv\", sep=\"\\t\", index=False, encoding=\"utf-8\")"
   ]
  },
  {
   "cell_type": "markdown",
   "metadata": {},
   "source": [
    "#### Check the output"
   ]
  },
  {
   "cell_type": "code",
   "execution_count": null,
   "metadata": {},
   "outputs": [],
   "source": [
    "codes_checked = set()\n",
    "parents_checked = set()\n",
    "\n",
    "\n",
    "def check_output(arr):\n",
    "    pref_term = arr[1]\n",
    "    code = arr[2]\n",
    "    parent_term = arr[3]\n",
    "    parent_code = arr[4]\n",
    "\n",
    "    len(pref_term) >= 1\n",
    "    len(parent_term) >= 1\n",
    "\n",
    "    if code not in codes_checked:\n",
    "        terms = output[\"Preferred Term\"][output[\"Code\"] == code]\n",
    "        assert len(terms.unique()) == 1\n",
    "        codes_checked.add(code)\n",
    "    if parent_code not in parents_checked:\n",
    "        terms = output[\"Parent Term\"][output[\"Parent Term Code\"] == parent_code]\n",
    "        assert len(terms.unique()) == 1\n",
    "        parents_checked.add(parent_code)\n",
    "\n",
    "\n",
    "_ = output.progress_apply(check_output, axis=1, raw=True)"
   ]
  }
 ],
 "metadata": {
  "kernelspec": {
   "display_name": "venv",
   "language": "python",
   "name": "python3"
  },
  "language_info": {
   "codemirror_mode": {
    "name": "ipython",
    "version": 3
   },
   "file_extension": ".py",
   "mimetype": "text/x-python",
   "name": "python",
   "nbconvert_exporter": "python",
   "pygments_lexer": "ipython3",
   "version": "3.9.18"
  }
 },
 "nbformat": 4,
 "nbformat_minor": 2
}
