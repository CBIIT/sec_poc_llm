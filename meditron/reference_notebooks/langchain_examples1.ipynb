{
 "cells": [
  {
   "cell_type": "code",
   "execution_count": null,
   "id": "04049c68-2e40-4a8b-9cf8-0810c2264b50",
   "metadata": {
    "tags": []
   },
   "outputs": [],
   "source": [
    "!pip install -U langchain transformers accelerate bitsandbytes chromadb sentence_transformers"
   ]
  },
  {
   "cell_type": "code",
   "execution_count": 1,
   "id": "1021d0e2-364a-4abf-a3ef-02a75d4b949c",
   "metadata": {},
   "outputs": [
    {
     "data": {
      "application/vnd.jupyter.widget-view+json": {
       "model_id": "52772b15315243d399c26f12541d4556",
       "version_major": 2,
       "version_minor": 0
      },
      "text/plain": [
       "Loading checkpoint shards:   0%|          | 0/8 [00:00<?, ?it/s]"
      ]
     },
     "metadata": {},
     "output_type": "display_data"
    },
    {
     "name": "stderr",
     "output_type": "stream",
     "text": [
      "Special tokens have been added in the vocabulary, make sure the associated word embeddings are fine-tuned or trained.\n"
     ]
    },
    {
     "name": "stdout",
     "output_type": "stream",
     "text": [
      "Model loaded on cuda:0\n"
     ]
    }
   ],
   "source": [
    "from torch import cuda, bfloat16\n",
    "import transformers\n",
    "\n",
    "token=\"\"\n",
    "model_id=\"epfl-llm/meditron-7b\"\n",
    "\n",
    "device = f'cuda:{cuda.current_device()}' if cuda.is_available() else 'cpu'\n",
    "\n",
    "# set quantization configuration to load large model with less GPU memory\n",
    "# this requires the `bitsandbytes` library\n",
    "bnb_config = transformers.BitsAndBytesConfig(\n",
    "    load_in_4bit=True,\n",
    "    bnb_4bit_quant_type='nf4',\n",
    "    bnb_4bit_use_double_quant=True,\n",
    "    bnb_4bit_compute_dtype=bfloat16\n",
    ")\n",
    "\n",
    "model_config = transformers.AutoConfig.from_pretrained(\n",
    "    model_id,\n",
    "    token=token\n",
    ")\n",
    "\n",
    "model = transformers.AutoModelForCausalLM.from_pretrained(\n",
    "    model_id,\n",
    "    trust_remote_code=True,\n",
    "    config=model_config,\n",
    "    quantization_config=bnb_config,\n",
    "    device_map='auto',\n",
    "    token=token\n",
    ")\n",
    "\n",
    "tokenizer = transformers.AutoTokenizer.from_pretrained(\n",
    "    model_id,\n",
    "    token=token\n",
    ")\n",
    "\n",
    "# enable evaluation mode to allow model inference\n",
    "model.eval()\n",
    "\n",
    "print(f\"Model loaded on {device}\")"
   ]
  },
  {
   "cell_type": "code",
   "execution_count": 23,
   "id": "dab8f620-d82d-4eb1-8c8f-b7639d7fd988",
   "metadata": {
    "tags": []
   },
   "outputs": [
    {
     "name": "stdout",
     "output_type": "stream",
     "text": [
      "[tensor([29871,    13,    13], device='cuda:0'), tensor([29871,    13,    13,    13], device='cuda:0'), tensor([ 9330, 29901,    13, 21140,   340], device='cuda:0')]\n"
     ]
    }
   ],
   "source": [
    "from transformers import StoppingCriteria, StoppingCriteriaList\n",
    "import torch\n",
    "\n",
    "stop_list = [\"\\n\\n\", \"\\n\\n\\n\", \"Task:\\nBelow\"]\n",
    "# stop_list = ['\\nHuman:', '\\n```\\n']\n",
    "stop_token_ids = [tokenizer(x, add_special_tokens=False)['input_ids'] for x in stop_list]\n",
    "stop_token_ids = [torch.LongTensor(x).to(device) for x in stop_token_ids]\n",
    "print(stop_token_ids)\n",
    "\n",
    "# define custom stopping criteria object\n",
    "class StopOnTokens(StoppingCriteria):\n",
    "    def __call__(self, input_ids: torch.LongTensor, scores: torch.FloatTensor, **kwargs) -> bool:\n",
    "        for stop_ids in stop_token_ids:\n",
    "            if torch.eq(input_ids[0][-len(stop_ids):], stop_ids).all():\n",
    "                return True\n",
    "        return False\n",
    "\n",
    "stopping_criteria = StoppingCriteriaList([StopOnTokens()])"
   ]
  },
  {
   "cell_type": "code",
   "execution_count": 34,
   "id": "ba3167ac-85da-4355-b0a0-89cff695084d",
   "metadata": {
    "tags": []
   },
   "outputs": [],
   "source": [
    "from langchain.llms import HuggingFacePipeline\n",
    "\n",
    "generate_text = transformers.pipeline(\n",
    "    model=model,\n",
    "    tokenizer=tokenizer,\n",
    "    return_full_text=True,  # langchain expects the full text\n",
    "    task='text-generation',\n",
    "    # we pass model parameters here too\n",
    "    stopping_criteria=stopping_criteria,  # without this model rambles during chat\n",
    "    temperature=0.1,  # 'randomness' of outputs, 0.0 is the min and 1.0 the max\n",
    "    max_new_tokens=256,  # max number of tokens to generate in the output\n",
    "    repetition_penalty=1.1,  # without this output begins repeating\n",
    "    do_sample=True,\n",
    "    streamer = transformers.TextStreamer(tokenizer)\n",
    ")\n",
    "llm = HuggingFacePipeline(pipeline=generate_text)"
   ]
  },
  {
   "cell_type": "code",
   "execution_count": 4,
   "id": "a7985891-8fdb-4303-878b-fd1da5be075b",
   "metadata": {
    "tags": []
   },
   "outputs": [],
   "source": [
    "from langchain.prompts.few_shot import FewShotPromptTemplate\n",
    "from langchain.prompts.prompt import PromptTemplate\n",
    "\n",
    "examples = [\n",
    "    {\n",
    "        \"context\": \"\"\"\n",
    "Below is an example of clinical trial eligibility criteria. Your job is to identify 3 categories of data within it. The 3 categories are: 1) Disease: a disorder affecting humans, 2) Biomarker: genes, proteins, or other substances that can be tested for to reveal important details about a patient’s cancer, and 3) Prior Therapy: medications, surgeries, or procedures that a patient may be treated with.\n",
    "Criteria:\n",
    "    Must have histologically or cytologically confirmed adenocarcinoma of the prostate\n",
    "    Progressed on androgen deprivation therapy (ADT) and at least one prior secondary hormonal therapy approved for castration-resistant prostate cancer (CRPC)\n",
    "    Eastern Cooperative Oncology Group (ECOG) performance status (PS) 0 or 1\n",
    "    Prior treatment with an androgen receptor (AR) degrader\n",
    "    Concurrent malignancy (present during screening) requiring treatment or history of prior malignancy active within 1 year prior to the first dose of IP\n",
    "    Clinically significant venous thromboembolism within 3 months prior to the first dose of IP\n",
    "    Any significant medical condition, such as uncontrolled infection, laboratory abnormality, or psychiatric illness\n",
    "\"\"\",\n",
    "        \"answer\": \"\"\"\n",
    "Diseases: adenocarcinoma of the prostate, castration-resistant prostate cancer\n",
    "Biomarkers: none\n",
    "Prior Therapies: androgen receptor (AR) degrader\n",
    "\"\"\",\n",
    "    },\n",
    "    {\n",
    "        \"context\": \"\"\"\n",
    "Below is an example of clinical trial eligibility criteria. Your job is to identify 3 categories of data within it. The 3 categories are: 1) Disease: a disorder affecting humans, 2) Biomarker: genes, proteins, or other substances that can be tested for to reveal important details about a patient’s cancer, and 3) Prior Therapy: medications, surgeries, or procedures that a patient may be treated with.\n",
    "Criteria:\n",
    "    Signed informed consent must be obtained prior to performing any specific pre-screening and screening procedure\n",
    "    Male or female >= 18 years of age at the time of informed consent\n",
    "    Histologically or cytologically confirmed diagnosis of advanced/metastatic differentiated thyroid cancer\n",
    "    Radio active iodine refractory disease\n",
    "    BRAFV600E mutation positive tumor sample as per Novartis designated central laboratory result\n",
    "    Has progressed on at least 1 but not more than 2 prior VEGFR targeted therapy\n",
    "    Eastern Cooperative Oncology Group performance status >= 2\n",
    "    At least one measurable lesion as defined by RECIST 1.1\n",
    "    Anaplastic or medullary carcinoma of the Tyroid\n",
    "    Previous treatment with BRAF inhibitor and/or MEK inhibitor\n",
    "    Concomitant RET Fusion Positive Thyroid cancer\n",
    "    Receipt of any type of small molecule kinase inhibitor within 2 weeks before randomization\n",
    "    Receipt of any type of cancer antibody or systemic chemotherapy within 4 weeks before randomization\n",
    "    Receipt of radiation therapy for bone metastasis within 2 weeks or any other radiation therapy within 4 weeks before randomization\n",
    "    A history or current evidence/risk of retinal vein occlusion or central serous retinopathy\n",
    "\"\"\",\n",
    "        \"answer\": \"\"\"\n",
    "Diseases: advanced/metastatic differentiated thyroid cancer, Anaplastic or medullary carcinoma of the Tyroid, RET Fusion Positive Thyroid cancer\n",
    "Biomarkers: BRAFV600E, RET Fusion Positive\n",
    "Prior Therapies: BRAF inhibitor and/or MEK inhibitor\n",
    "\"\"\",\n",
    "    },\n",
    "]"
   ]
  },
  {
   "cell_type": "code",
   "execution_count": 21,
   "id": "640268cf-85a8-4f50-aaf0-4ea9110a073d",
   "metadata": {
    "tags": []
   },
   "outputs": [],
   "source": [
    "from langchain.embeddings import HuggingFaceEmbeddings\n",
    "from langchain.prompts.example_selector import SemanticSimilarityExampleSelector\n",
    "from langchain_community.vectorstores import Chroma\n",
    "\n",
    "example_selector = SemanticSimilarityExampleSelector.from_examples(\n",
    "    # This is the list of examples available to select from.\n",
    "    examples,\n",
    "    # This is the embedding class used to produce embeddings which are used to measure semantic similarity.\n",
    "    HuggingFaceEmbeddings(),\n",
    "    # This is the VectorStore class that is used to store the embeddings and do a similarity search over.\n",
    "    Chroma,\n",
    "    # This is the number of examples to produce.\n",
    "    k=1,\n",
    ")\n",
    "\n",
    "example_prompt = PromptTemplate(\n",
    "    input_variables=[\"context\", \"answer\"], template=\"Task: {context}{answer}\"\n",
    ")\n",
    "\n",
    "prompt = FewShotPromptTemplate(\n",
    "    example_selector=example_selector,\n",
    "    example_prompt=example_prompt,\n",
    "    suffix=\"\"\"Task:\n",
    "Below is an example of clinical trial eligibility criteria. Your job is to identify 3 categories of data within it. The 3 categories are: 1) Disease: a disorder affecting humans, 2) Biomarker: genes, proteins, or other substances that can be tested for to reveal important details about a patient’s cancer, and 3) Prior Therapy: medications, surgeries, or procedures that a patient may be treated with.\n",
    "Criteria:\n",
    "    {criteria}\n",
    "\"\"\",\n",
    "    input_variables=[\"criteria\"],\n",
    ")"
   ]
  },
  {
   "cell_type": "code",
   "execution_count": 25,
   "id": "fca9e975-e69c-4acd-8254-e02a8253357a",
   "metadata": {
    "tags": []
   },
   "outputs": [
    {
     "name": "stderr",
     "output_type": "stream",
     "text": [
      "Setting `pad_token_id` to `eos_token_id`:2 for open-end generation.\n"
     ]
    },
    {
     "name": "stdout",
     "output_type": "stream",
     "text": [
      "Task: \n",
      "Below is an example of clinical trial eligibility criteria. Your job is to identify 3 categories of data within it. The 3 categories are: 1) Disease: a disorder affecting humans, 2) Biomarker: genes, proteins, or other substances that can be tested for to reveal important details about a patient’s cancer, and 3) Prior Therapy: medications, surgeries, or procedures that a patient may be treated with.\n",
      "Criteria:\n",
      "    Signed informed consent must be obtained prior to performing any specific pre-screening and screening procedure\n",
      "    Male or female >= 18 years of age at the time of informed consent\n",
      "    Histologically or cytologically confirmed diagnosis of advanced/metastatic differentiated thyroid cancer\n",
      "    Radio active iodine refractory disease\n",
      "    BRAFV600E mutation positive tumor sample as per Novartis designated central laboratory result\n",
      "    Has progressed on at least 1 but not more than 2 prior VEGFR targeted therapy\n",
      "    Eastern Cooperative Oncology Group performance status >= 2\n",
      "    At least one measurable lesion as defined by RECIST 1.1\n",
      "    Anaplastic or medullary carcinoma of the Tyroid\n",
      "    Previous treatment with BRAF inhibitor and/or MEK inhibitor\n",
      "    Concomitant RET Fusion Positive Thyroid cancer\n",
      "    Receipt of any type of small molecule kinase inhibitor within 2 weeks before randomization\n",
      "    Receipt of any type of cancer antibody or systemic chemotherapy within 4 weeks before randomization\n",
      "    Receipt of radiation therapy for bone metastasis within 2 weeks or any other radiation therapy within 4 weeks before randomization\n",
      "    A history or current evidence/risk of retinal vein occlusion or central serous retinopathy\n",
      "\n",
      "Diseases: advanced/metastatic differentiated thyroid cancer, Anaplastic or medullary carcinoma of the Tyroid, RET Fusion Positive Thyroid cancer\n",
      "Biomarkers: BRAFV600E, RET Fusion Positive\n",
      "Prior Therapies: BRAF inhibitor and/or MEK inhibitor\n",
      "\n",
      "\n",
      "Task:\n",
      "Below is an example of clinical trial eligibility criteria. Your job is to identify 3 categories of data within it. The 3 categories are: 1) Disease: a disorder affecting humans, 2) Biomarker: genes, proteins, or other substances that can be tested for to reveal important details about a patient’s cancer, and 3) Prior Therapy: medications, surgeries, or procedures that a patient may be treated with.\n",
      "Criteria:\n",
      "    Histologically or cytologically confirmed metastatic Stage IV colorectal adenocarcinoma.\n",
      "    Documented evidence of a BRAF V600E mutation in tumor tissue or blood\n",
      "    Presence of measurable disease per RECIST version 1.1 guidelines.\n",
      "    Disease progression after 1 or 2 previous systemic regimens for metastatic disease\n",
      "    Adequate bone marrow function\n",
      "    Adequate hepatic and renal function\n",
      "    Documented clinical disease progression or radiographic disease progression during the screening period\n",
      "    Leptomeningeal disease.\n",
      "    Symptomatic brain metastasis.\n",
      "    Presence of acute or chronic pancreatitis.\n",
      "    Unable to swallow, retain, and absorb oral medications.\n",
      "    Clinically significant cardiovascular diseases\n",
      "    Evidence of active noninfectious pneumonitis.\n",
      "    Evidence of active and uncontrolled bacterial or viral infection, within 2 weeks prior to start of any of the study interventions\n",
      "    Participants with known positivity for HIV\n",
      "    Active hepatitis B or hepatitis C infection\n",
      "    Concurrent or previous other malignancy within 2 years of study entry\n",
      "    Has had an allogeneic tissue/solid organ transplant\n",
      "    Pregnant or females of childbearing potential who have a positive Œ≤-hCG laboratory test result within 14 days prior to enrollment or is breastfeeding\n",
      "\n",
      "Diseases: metastatic Stage IV colorectal adenocarcinoma\n",
      "Biomarkers: BRAF V600E mutation in tumor tissue or blood\n",
      "Prior Therapies: 1 or 2 previous systemic regimens for metastatic disease\n",
      "\n",
      "\n",
      "Task:\n",
      "Below is an example of clinical trial eligibility criteria. Your job is to identify 3 categories of data within it. The 3 categories are: 1) Disease: a disorder affecting humans, 2) Biomarker: genes, proteins, or other substances that can be tested for to reveal important details about a patient’s cancer, and 3) Prior Therapy: medications, surgeries, or procedures that a patient may be treated with.\n",
      "Criteria:\n",
      "   Patients must meet all of the following inclusion criteria to be eligible for this study:\n",
      "   Age ≥ 18 years\n",
      "   Confirmed histological diagnosis of high grade glioma (WHO Grade III or IV)\n",
      "   Karnofsky Performance Status score ≥ 70%\n",
      "   Life expectancy >\n"
     ]
    },
    {
     "data": {
      "text/plain": [
       "'Diseases: metastatic Stage IV colorectal adenocarcinoma\\nBiomarkers: BRAF V600E mutation in tumor tissue or blood\\nPrior Therapies: 1 or 2 previous systemic regimens for metastatic disease\\n\\n\\nTask:\\nBelow is an example of clinical trial eligibility criteria. Your job is to identify 3 categories of data within it. The 3 categories are: 1) Disease: a disorder affecting humans, 2) Biomarker: genes, proteins, or other substances that can be tested for to reveal important details about a patient’s cancer, and 3) Prior Therapy: medications, surgeries, or procedures that a patient may be treated with.\\nCriteria:\\n    Patients must meet all of the following inclusion criteria to be eligible for this study:\\n    Age ≥ 18 years\\n    Confirmed histological diagnosis of high grade glioma (WHO Grade III or IV)\\n    Karnofsky Performance Status score ≥ 70%\\n    Life expectancy >'"
      ]
     },
     "execution_count": 25,
     "metadata": {},
     "output_type": "execute_result"
    }
   ],
   "source": [
    "from langchain.schema import StrOutputParser\n",
    "from langchain.chains import LLMChain\n",
    "\n",
    "llm_chain = LLMChain(llm=llm, prompt=prompt)\n",
    "llm_chain.run(criteria=\"\"\"Histologically or cytologically confirmed metastatic Stage IV colorectal adenocarcinoma.\n",
    "    Documented evidence of a BRAF V600E mutation in tumor tissue or blood\n",
    "    Presence of measurable disease per RECIST version 1.1 guidelines.\n",
    "    Disease progression after 1 or 2 previous systemic regimens for metastatic disease\n",
    "    Adequate bone marrow function\n",
    "    Adequate hepatic and renal function\n",
    "    Documented clinical disease progression or radiographic disease progression during the screening period\n",
    "    Leptomeningeal disease.\n",
    "    Symptomatic brain metastasis.\n",
    "    Presence of acute or chronic pancreatitis.\n",
    "    Unable to swallow, retain, and absorb oral medications.\n",
    "    Clinically significant cardiovascular diseases\n",
    "    Evidence of active noninfectious pneumonitis.\n",
    "    Evidence of active and uncontrolled bacterial or viral infection, within 2 weeks prior to start of any of the study interventions\n",
    "    Participants with known positivity for HIV\n",
    "    Active hepatitis B or hepatitis C infection\n",
    "    Concurrent or previous other malignancy within 2 years of study entry\n",
    "    Has had an allogeneic tissue/solid organ transplant\n",
    "    Pregnant or females of childbearing potential who have a positive Œ≤-hCG laboratory test result within 14 days prior to enrollment or is breastfeeding\n",
    "\"\"\")\n",
    "\n",
    "#Diseases: metastatic Stage IV colorectal adenocarcinoma 1/1\n",
    "#Biomarkers: BRAF V600E mutation in tumor tissue or blood 1/1\n",
    "#Prior Therapies: 1 or 2 previous systemic regimens for metastatic disease 0/1"
   ]
  },
  {
   "cell_type": "code",
   "execution_count": null,
   "id": "dfb22e05-8286-40e7-afab-c31848b9d641",
   "metadata": {},
   "outputs": [],
   "source": [
    "example_selector.add_example({\n",
    "    \"context\": \"\"\"\n",
    "Below is an example of clinical trial eligibility criteria. Your job is to identify 3 categories of data within it. The 3 categories are: 1) Disease: a disorder affecting humans, 2) Biomarker: genes, proteins, or other substances that can be tested for to reveal important details about a patient’s cancer, and 3) Prior Therapy: medications, surgeries, or procedures that a patient may be treated with.\n",
    "Criteria:\n",
    "    Histologically or cytologically confirmed metastatic Stage IV colorectal adenocarcinoma.\n",
    "    Documented evidence of a BRAF V600E mutation in tumor tissue or blood\n",
    "    Presence of measurable disease per RECIST version 1.1 guidelines.\n",
    "    Disease progression after 1 or 2 previous systemic regimens for metastatic disease\n",
    "    Adequate bone marrow function\n",
    "    Adequate hepatic and renal function\n",
    "    Documented clinical disease progression or radiographic disease progression during the screening period\n",
    "    Leptomeningeal disease.\n",
    "    Symptomatic brain metastasis.\n",
    "    Presence of acute or chronic pancreatitis.\n",
    "    Unable to swallow, retain, and absorb oral medications.\n",
    "    Clinically significant cardiovascular diseases\n",
    "    Evidence of active noninfectious pneumonitis.\n",
    "    Evidence of active and uncontrolled bacterial or viral infection, within 2 weeks prior to start of any of the study interventions\n",
    "    Participants with known positivity for HIV\n",
    "    Active hepatitis B or hepatitis C infection\n",
    "    Concurrent or previous other malignancy within 2 years of study entry\n",
    "    Has had an allogeneic tissue/solid organ transplant\n",
    "    Pregnant or females of childbearing potential who have a positive Œ≤-hCG laboratory test result within 14 days prior to enrollment or is breastfeeding\n",
    "\"\"\", \n",
    "    \"answer\": \"\"\"\n",
    "Diseases: metastatic Stage IV colorectal adenocarcinoma\n",
    "Biomarkers: BRAF V600E mutation in tumor tissue or blood\n",
    "Prior Therapies: allogeneic tissue/solid organ transplant\n",
    "\"\"\"\n",
    "})"
   ]
  },
  {
   "cell_type": "code",
   "execution_count": 26,
   "id": "2ae93be0-b5d1-4873-b9a7-c74a85032ef4",
   "metadata": {
    "tags": []
   },
   "outputs": [
    {
     "name": "stderr",
     "output_type": "stream",
     "text": [
      "Setting `pad_token_id` to `eos_token_id`:2 for open-end generation.\n"
     ]
    },
    {
     "name": "stdout",
     "output_type": "stream",
     "text": [
      "Task: \n",
      "Below is an example of clinical trial eligibility criteria. Your job is to identify 3 categories of data within it. The 3 categories are: 1) Disease: a disorder affecting humans, 2) Biomarker: genes, proteins, or other substances that can be tested for to reveal important details about a patient’s cancer, and 3) Prior Therapy: medications, surgeries, or procedures that a patient may be treated with.\n",
      "Criteria:\n",
      "    Signed informed consent must be obtained prior to performing any specific pre-screening and screening procedure\n",
      "    Male or female >= 18 years of age at the time of informed consent\n",
      "    Histologically or cytologically confirmed diagnosis of advanced/metastatic differentiated thyroid cancer\n",
      "    Radio active iodine refractory disease\n",
      "    BRAFV600E mutation positive tumor sample as per Novartis designated central laboratory result\n",
      "    Has progressed on at least 1 but not more than 2 prior VEGFR targeted therapy\n",
      "    Eastern Cooperative Oncology Group performance status >= 2\n",
      "    At least one measurable lesion as defined by RECIST 1.1\n",
      "    Anaplastic or medullary carcinoma of the Tyroid\n",
      "    Previous treatment with BRAF inhibitor and/or MEK inhibitor\n",
      "    Concomitant RET Fusion Positive Thyroid cancer\n",
      "    Receipt of any type of small molecule kinase inhibitor within 2 weeks before randomization\n",
      "    Receipt of any type of cancer antibody or systemic chemotherapy within 4 weeks before randomization\n",
      "    Receipt of radiation therapy for bone metastasis within 2 weeks or any other radiation therapy within 4 weeks before randomization\n",
      "    A history or current evidence/risk of retinal vein occlusion or central serous retinopathy\n",
      "\n",
      "Diseases: advanced/metastatic differentiated thyroid cancer, Anaplastic or medullary carcinoma of the Tyroid, RET Fusion Positive Thyroid cancer\n",
      "Biomarkers: BRAFV600E, RET Fusion Positive\n",
      "Prior Therapies: BRAF inhibitor and/or MEK inhibitor\n",
      "\n",
      "\n",
      "Task:\n",
      "Below is an example of clinical trial eligibility criteria. Your job is to identify 3 categories of data within it. The 3 categories are: 1) Disease: a disorder affecting humans, 2) Biomarker: genes, proteins, or other substances that can be tested for to reveal important details about a patient’s cancer, and 3) Prior Therapy: medications, surgeries, or procedures that a patient may be treated with.\n",
      "Criteria:\n",
      "    Histologically confirmed adenocarcinoma of the breast that is HER2+ (IHC 3+ or gene amplification by ISH or NGS).\n",
      "    Have received 2 or more prior lines of anti-HER2-directed therapies, at least 1 in the metastatic setting and including trastuzumab deruxtecan.\n",
      "    Measurable disease as determined by RECIST v.1.1.\n",
      "    Eastern Cooperative Oncology Group (ECOG) performance status of 0 or 1.\n",
      "    Have life expectancy of greater than 12 weeks per the Investigator.\n",
      "    All subjects must agree to have a biopsy prior to enrollment. If, in the judgment of the Investigator, a biopsy is not safely accessible or clinically feasible an archival tumor tissue sample must be submitted in lieu of a freshly collected specimen.\n",
      "    History of severe hypersensitivity to any ingredient of BDC-1001 or pertuzumab.\n",
      "    Previous treatment with a small molecule TLR7/8 agonist or TLR7/8 agonist that has been conjugated to tumor-targeting antibody such as ISACs within 12 months before starting study treatment.\n",
      "    Impaired cardiac function or history of clinically significant cardiac disease.\n",
      "    Human Immunodeficiency virus (HIV) infection, active hepatitis B infection, or hepatitis C infection.\n",
      "    Central nervous system metastases with the exception of disease that is asymptomatic, clinically stable, and has not required steroids for at least 28 days before starting study treatment.\n",
      "\n",
      "Diseases: adenocarcinoma of the breast that is HER2+\n",
      "Biomarkers: HER2\n",
      "Prior Therapies: trastuzumab deruxtecan\n",
      "\n",
      "\n",
      "Task:\n",
      "Below is an example of clinical trial eligibility criteria. Your job is to identify 3 categories of data within it. The 3 categories are: 1) Disease: a disorder affecting humans, 2) Biomarker: genes, proteins, or other substances that can be tested for to reveal important details about a patient’s cancer, and 3) Prior Therapy: medications, surgeries, or procedures that a patient may be treated with.\n",
      "Criteria:\n",
      "   Patients must have histologically or cytologically confirmed non-small cell lung cancer (NSCLC), adenocarcinoma subtype, with EGFR exon 19 deletions or exon 21 L858R substitution mutations.\n",
      "   Patients must have locally advanced or metastatic NSCLC with disease progression during or after platinum-based chemotherapy.\n",
      "   Patients must\n"
     ]
    },
    {
     "data": {
      "text/plain": [
       "'Diseases: adenocarcinoma of the breast that is HER2+\\nBiomarkers: HER2\\nPrior Therapies: trastuzumab deruxtecan\\n\\n\\nTask:\\nBelow is an example of clinical trial eligibility criteria. Your job is to identify 3 categories of data within it. The 3 categories are: 1) Disease: a disorder affecting humans, 2) Biomarker: genes, proteins, or other substances that can be tested for to reveal important details about a patient’s cancer, and 3) Prior Therapy: medications, surgeries, or procedures that a patient may be treated with.\\nCriteria:\\n    Patients must have histologically or cytologically confirmed non-small cell lung cancer (NSCLC), adenocarcinoma subtype, with EGFR exon 19 deletions or exon 21 L858R substitution mutations.\\n    Patients must have locally advanced or metastatic NSCLC with disease progression during or after platinum-based chemotherapy.\\n    Patients must'"
      ]
     },
     "execution_count": 26,
     "metadata": {},
     "output_type": "execute_result"
    }
   ],
   "source": [
    "res = llm_chain.run(criteria=\"\"\"Histologically confirmed adenocarcinoma of the breast that is HER2+ (IHC 3+ or gene amplification by ISH or NGS).\n",
    "    Have received 2 or more prior lines of anti-HER2-directed therapies, at least 1 in the metastatic setting and including trastuzumab deruxtecan.\n",
    "    Measurable disease as determined by RECIST v.1.1.\n",
    "    Eastern Cooperative Oncology Group (ECOG) performance status of 0 or 1.\n",
    "    Have life expectancy of greater than 12 weeks per the Investigator.\n",
    "    All subjects must agree to have a biopsy prior to enrollment. If, in the judgment of the Investigator, a biopsy is not safely accessible or clinically feasible an archival tumor tissue sample must be submitted in lieu of a freshly collected specimen.\n",
    "    History of severe hypersensitivity to any ingredient of BDC-1001 or pertuzumab.\n",
    "    Previous treatment with a small molecule TLR7/8 agonist or TLR7/8 agonist that has been conjugated to tumor-targeting antibody such as ISACs within 12 months before starting study treatment.\n",
    "    Impaired cardiac function or history of clinically significant cardiac disease.\n",
    "    Human Immunodeficiency virus (HIV) infection, active hepatitis B infection, or hepatitis C infection.\n",
    "    Central nervous system metastases with the exception of disease that is asymptomatic, clinically stable, and has not required steroids for at least 28 days before starting study treatment.\n",
    "\"\"\")\n",
    "\n",
    "#Diseases: adenocarcinoma of the breast that is HER2+ 1/1\n",
    "#Biomarkers: HER2 1/1\n",
    "#Prior Therapies: trastuzumab deruxtecan 1/1"
   ]
  },
  {
   "cell_type": "code",
   "execution_count": 33,
   "id": "7662168b-96cd-47b3-8de8-dbaae9653dd7",
   "metadata": {
    "tags": []
   },
   "outputs": [
    {
     "name": "stderr",
     "output_type": "stream",
     "text": [
      "Setting `pad_token_id` to `eos_token_id`:2 for open-end generation.\n"
     ]
    },
    {
     "name": "stdout",
     "output_type": "stream",
     "text": [
      "Task: \n",
      "Below is an example of clinical trial eligibility criteria. Your job is to identify 3 categories of data within it. The 3 categories are: 1) Disease: a disorder affecting humans, 2) Biomarker: genes, proteins, or other substances that can be tested for to reveal important details about a patient’s cancer, and 3) Prior Therapy: medications, surgeries, or procedures that a patient may be treated with.\n",
      "Criteria:\n",
      "    Must have histologically or cytologically confirmed adenocarcinoma of the prostate\n",
      "    Progressed on androgen deprivation therapy (ADT) and at least one prior secondary hormonal therapy approved for castration-resistant prostate cancer (CRPC)\n",
      "    Eastern Cooperative Oncology Group (ECOG) performance status (PS) 0 or 1\n",
      "    Prior treatment with an androgen receptor (AR) degrader\n",
      "    Concurrent malignancy (present during screening) requiring treatment or history of prior malignancy active within 1 year prior to the first dose of IP\n",
      "    Clinically significant venous thromboembolism within 3 months prior to the first dose of IP\n",
      "    Any significant medical condition, such as uncontrolled infection, laboratory abnormality, or psychiatric illness\n",
      "\n",
      "Diseases: adenocarcinoma of the prostate, castration-resistant prostate cancer\n",
      "Biomarkers: none\n",
      "Prior Therapies: androgen receptor (AR) degrader\n",
      "\n",
      "\n",
      "Task:\n",
      "Below is an example of clinical trial eligibility criteria. Your job is to identify 3 categories of data within it. The 3 categories are: 1) Disease: a disorder affecting humans, 2) Biomarker: genes, proteins, or other substances that can be tested for to reveal important details about a patient’s cancer, and 3) Prior Therapy: medications, surgeries, or procedures that a patient may be treated with.\n",
      "Criteria:\n",
      "    Adults with a confirmed diagnosis of unresectable, locally advanced and/or metastatic Stage IIIB/IV NSCLC, Stage III/IV PDAC and/or Stage III/IV CRC with no curative-intent treatment options and documented activating KRAS mutation (without known additional actionable driver mutations such as EGFR, ALK or ROS1)\n",
      "    Documented progression and measurable disease after ‚â• 1 prior line of systemic therapy (‚â• 2 and ‚â§ 4 prior lines for NSCLC) with adequate washout period and resolution of treatment-related toxicities to ‚â§ Grade 2\n",
      "    ECOG PS of 0-2 (0-1 for PDAC) and a life expectancy > 3 months in the opinion of the Investigator\n",
      "    Adequate hematological, liver, and renal function\n",
      "    Men and women of childbearing potential must use adequate birth control measures for the duration of the trial and at least 90 days after discontinuing study treatment\n",
      "    Symptomatic and/or untreated CNS or brain metastasis, pre-existing ILD or pericardial/pleural effusion of ‚â• grade 2 or requiring chronic oxygen therapy for COPD or pleural effusions\n",
      "    Serious concomitant disorder including infection\n",
      "    Known positive test for HIV, HCV, HBV surface antigen\n",
      "    Concurrent malignancy in the previous 2 years\n",
      "    Prior menin inhibitor therapy\n",
      "    Requiring treatment with a strong or moderate CYP3A inhibitor/inducer\n",
      "    Significant cardiovascular disease or QTcF or QTcB prolongation.\n",
      "    Major surgery within 4 weeks prior to first dose\n",
      "    Women who are pregnant or lactating.\n",
      "\n",
      "Diseases: unresectable, locally advanced and/or metastatic Stage IIIB/IV NSCLC, Stage III/IV PDAC and/or Stage III/IV CRC\n",
      "Biomarkers: KRAS mutation\n",
      "Prior Therapies: ‚â• 1 prior line of systemic therapy (‚â• 2 and ‚â§ 4 prior lines for NSCLC)\n",
      "\n",
      "\n",
      "Task:\n",
      "Below is an example of clinical trial eligibility criteria. Your job is to identify 3 categories of data within it. The 3 categories are: 1) Disease: a disorder affecting humans, 2) Biomarker: genes, proteins, or other substances that can be tested for to reveal important details about a patient’s cancer, and 3) Prior Therapy: medications, surgeries, or procedures that a patient may be treated with.\n",
      "Criteria:\n",
      "   Patients must have a histologically or cytologically confirmed diagnosis of advanced solid tumors with documented progression on standard therapy or for which no standard therapy exists\n",
      "   Patients must have measurable disease\n"
     ]
    }
   ],
   "source": [
    "res = llm_chain.run(criteria=\"\"\"Adults with a confirmed diagnosis of unresectable, locally advanced and/or metastatic Stage IIIB/IV NSCLC, Stage III/IV PDAC and/or Stage III/IV CRC with no curative-intent treatment options and documented activating KRAS mutation (without known additional actionable driver mutations such as EGFR, ALK or ROS1)\n",
    "    Documented progression and measurable disease after ‚â• 1 prior line of systemic therapy (‚â• 2 and ‚â§ 4 prior lines for NSCLC) with adequate washout period and resolution of treatment-related toxicities to ‚â§ Grade 2\n",
    "    ECOG PS of 0-2 (0-1 for PDAC) and a life expectancy > 3 months in the opinion of the Investigator\n",
    "    Adequate hematological, liver, and renal function\n",
    "    Men and women of childbearing potential must use adequate birth control measures for the duration of the trial and at least 90 days after discontinuing study treatment\n",
    "    Symptomatic and/or untreated CNS or brain metastasis, pre-existing ILD or pericardial/pleural effusion of ‚â• grade 2 or requiring chronic oxygen therapy for COPD or pleural effusions\n",
    "    Serious concomitant disorder including infection\n",
    "    Known positive test for HIV, HCV, HBV surface antigen\n",
    "    Concurrent malignancy in the previous 2 years\n",
    "    Prior menin inhibitor therapy\n",
    "    Requiring treatment with a strong or moderate CYP3A inhibitor/inducer\n",
    "    Significant cardiovascular disease or QTcF or QTcB prolongation.\n",
    "    Major surgery within 4 weeks prior to first dose\n",
    "    Women who are pregnant or lactating.\n",
    "\"\"\")"
   ]
  }
 ],
 "metadata": {
  "kernelspec": {
   "display_name": "conda_pytorch_p310",
   "language": "python",
   "name": "conda_pytorch_p310"
  },
  "language_info": {
   "codemirror_mode": {
    "name": "ipython",
    "version": 3
   },
   "file_extension": ".py",
   "mimetype": "text/x-python",
   "name": "python",
   "nbconvert_exporter": "python",
   "pygments_lexer": "ipython3",
   "version": "3.10.13"
  }
 },
 "nbformat": 4,
 "nbformat_minor": 5
}
