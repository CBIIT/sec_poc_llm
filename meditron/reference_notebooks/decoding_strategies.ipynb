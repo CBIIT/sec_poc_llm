{
 "cells": [
  {
   "cell_type": "code",
   "execution_count": null,
   "id": "c9e0775c-a518-4664-95ca-eb95b05ae27b",
   "metadata": {
    "tags": []
   },
   "outputs": [],
   "source": [
    "!pip install transformers bitsandbytes accelerate"
   ]
  },
  {
   "cell_type": "code",
   "execution_count": 2,
   "id": "5c830bdf-0e35-4239-826e-22fec843bf12",
   "metadata": {
    "tags": []
   },
   "outputs": [],
   "source": [
    "token=\"\"\n",
    "model_id=\"epfl-llm/meditron-7b\""
   ]
  },
  {
   "cell_type": "code",
   "execution_count": null,
   "id": "4e4247d3-ad0a-4daa-bf8e-b020aebd7409",
   "metadata": {
    "tags": []
   },
   "outputs": [],
   "source": [
    "from transformers import AutoTokenizer, AutoModelForCausalLM\n",
    "\n",
    "tokenizer = AutoTokenizer.from_pretrained(model_id, token=token)\n",
    "model = AutoModelForCausalLM.from_pretrained(model_id, token=token, load_in_8bit=True)"
   ]
  },
  {
   "cell_type": "code",
   "execution_count": 4,
   "id": "d9c7b9a8-0b61-4828-81af-76bf224bd9ed",
   "metadata": {
    "tags": []
   },
   "outputs": [],
   "source": [
    "from transformers import TextStreamer\n",
    "\n",
    "prompt = \"\"\"# Question 1: Please identify the genetic biomarkers in the following chunk of text (marked inside \"----\")\n",
    "----\n",
    "The subject has a pathologic diagnosis of non-small cell lung carcinoma that is metastatic or unresectable  \n",
    "Documented presence\n",
    "* GROUP A: kinesin family member 5B (KIF5B)-RET or related variant RET fusions\n",
    "* GROUP B: any of the following aberrations\n",
    "** NTRK fusion\n",
    "** MET overexpression, amplification, or mutation\n",
    "** AXL overexpression, amplification, or mutation\n",
    "* GROUP C: ROS1 fusion\n",
    "* GROUP D: RET-fusion post-progression on selective RET inhibitor  \n",
    "Measurable disease by RECIST1.1  \n",
    "The subject has a Karnofsky performance status of > 70%  \n",
    "Absolute neutrophil count (ANC) >= 1500/mm^3 without colony stimulating factor support  \n",
    "Platelets >= 100,000/mm^3  \n",
    "Hemoglobin >= 9 g/dL  \n",
    "Bilirubin =< 1.5 x the upper limit of normal (ULN); for subjects with known Gilbert's disease, bilirubin =< 3.0 mg/dL  \n",
    "Serum creatinine =< 1.5 x ULN, or creatinine clearance (CrCl) >= 30 mL/min; for creatinine clearance estimation, the Cockcroft and Gault equation should be used  \n",
    "Alanine aminotransferase (ALT) and aspartate aminotransferase (AST) =< 3.0 x ULN if no liver involvement, or =< 5 x ULN with liver involvement  \n",
    "Urine protein/creatinine ratio (UPCR) =< 1 mg/mg (113.2 mg/mmol) creatinine or 24-hour (hr) urine protein of < 1 g  \n",
    "Serum phosphorus, magnesium, and potassium >= lower limit of normal (LLN) after adequate supplementation if necessary  \n",
    "The subject is capable of understanding and complying with the protocol requirements and has signed the informed consent document  \n",
    "Sexually active subjects (men and women) must agree to use medically accepted barrier methods of contraception (e.g., male or female condom) during the course of the study and for 4 months after the last dose of study drug(s), even if oral contraceptives are also used; all subjects of reproductive potential must agree to use both a barrier method and a second method of birth control; women of childbearing potential must have a negative pregnancy test at screening\n",
    "----\n",
    "# Answer: \n",
    "\"\"\"\n",
    "inputs = tokenizer(prompt, return_tensors=\"pt\").to(\"cuda\")"
   ]
  },
  {
   "cell_type": "markdown",
   "id": "4cef3e5b-44c8-4407-b51b-68e3d25df188",
   "metadata": {
    "tags": []
   },
   "source": [
    "# Memory management"
   ]
  },
  {
   "cell_type": "code",
   "execution_count": 4,
   "id": "40705509-9b7e-48b1-9f6b-364c6500fc32",
   "metadata": {
    "tags": []
   },
   "outputs": [
    {
     "name": "stdout",
     "output_type": "stream",
     "text": [
      "Filesystem      Size  Used Avail Use% Mounted on\n",
      "devtmpfs         16G     0   16G   0% /dev\n",
      "tmpfs            16G  132K   16G   1% /dev/shm\n",
      "tmpfs            16G  680K   16G   1% /run\n",
      "tmpfs            16G     0   16G   0% /sys/fs/cgroup\n",
      "/dev/nvme0n1p1  135G  100G   36G  74% /\n",
      "tmpfs           3.1G     0  3.1G   0% /run/user/0\n",
      "/dev/nvme2n1    4.8G  128K  4.6G   1% /home/ec2-user/SageMaker\n",
      "tmpfs           3.1G     0  3.1G   0% /run/user/1000\n",
      "tmpfs           3.1G     0  3.1G   0% /run/user/1002\n",
      "tmpfs           3.1G     0  3.1G   0% /run/user/1001\n"
     ]
    },
    {
     "name": "stderr",
     "output_type": "stream",
     "text": [
      "huggingface/tokenizers: The current process just got forked, after parallelism has already been used. Disabling parallelism to avoid deadlocks...\n",
      "To disable this warning, you can either:\n",
      "\t- Avoid using `tokenizers` before the fork if possible\n",
      "\t- Explicitly set the environment variable TOKENIZERS_PARALLELISM=(true | false)\n"
     ]
    }
   ],
   "source": [
    "# /home/ec2-user-user/sagemaker shows the EBS volume size\n",
    "!df -h"
   ]
  },
  {
   "cell_type": "code",
   "execution_count": 5,
   "id": "4a9c1ad6-4bdf-4578-9c8c-d45591d8ff54",
   "metadata": {
    "tags": []
   },
   "outputs": [
    {
     "name": "stdout",
     "output_type": "stream",
     "text": [
      "              total        used        free      shared  buff/cache   available\n",
      "Mem:            30G        1.9G         12G         12M         16G         28G\n",
      "Swap:            0B          0B          0B\n"
     ]
    },
    {
     "name": "stderr",
     "output_type": "stream",
     "text": [
      "huggingface/tokenizers: The current process just got forked, after parallelism has already been used. Disabling parallelism to avoid deadlocks...\n",
      "To disable this warning, you can either:\n",
      "\t- Avoid using `tokenizers` before the fork if possible\n",
      "\t- Explicitly set the environment variable TOKENIZERS_PARALLELISM=(true | false)\n"
     ]
    }
   ],
   "source": [
    "!free -h"
   ]
  },
  {
   "cell_type": "code",
   "execution_count": 6,
   "id": "cb62038a-1a69-40f6-8c8e-3eada0731b05",
   "metadata": {
    "tags": []
   },
   "outputs": [
    {
     "name": "stdout",
     "output_type": "stream",
     "text": [
      "Fri Dec 29 22:03:32 2023       \n",
      "+---------------------------------------------------------------------------------------+\n",
      "| NVIDIA-SMI 535.104.12             Driver Version: 535.104.12   CUDA Version: 12.2     |\n",
      "|-----------------------------------------+----------------------+----------------------+\n",
      "| GPU  Name                 Persistence-M | Bus-Id        Disp.A | Volatile Uncorr. ECC |\n",
      "| Fan  Temp   Perf          Pwr:Usage/Cap |         Memory-Usage | GPU-Util  Compute M. |\n",
      "|                                         |                      |               MIG M. |\n",
      "|=========================================+======================+======================|\n",
      "|   0  Tesla T4                       On  | 00000000:00:1E.0 Off |                    0 |\n",
      "| N/A   29C    P0              38W /  70W |   8537MiB / 15360MiB |      5%      Default |\n",
      "|                                         |                      |                  N/A |\n",
      "+-----------------------------------------+----------------------+----------------------+\n",
      "                                                                                         \n",
      "+---------------------------------------------------------------------------------------+\n",
      "| Processes:                                                                            |\n",
      "|  GPU   GI   CI        PID   Type   Process name                            GPU Memory |\n",
      "|        ID   ID                                                             Usage      |\n",
      "|=======================================================================================|\n",
      "|    0   N/A  N/A     20897      C   ...conda3/envs/pytorch_p310/bin/python     8534MiB |\n",
      "+---------------------------------------------------------------------------------------+\n"
     ]
    },
    {
     "name": "stderr",
     "output_type": "stream",
     "text": [
      "huggingface/tokenizers: The current process just got forked, after parallelism has already been used. Disabling parallelism to avoid deadlocks...\n",
      "To disable this warning, you can either:\n",
      "\t- Avoid using `tokenizers` before the fork if possible\n",
      "\t- Explicitly set the environment variable TOKENIZERS_PARALLELISM=(true | false)\n"
     ]
    }
   ],
   "source": [
    "import torch\n",
    "import gc\n",
    "from numba import cuda\n",
    "# cuda.select_device(0)\n",
    "# cuda.close()\n",
    "\n",
    "# model = None\n",
    "# tokenizer = None\n",
    "# inputs = None\n",
    "# outputs = None\n",
    "# print(cuda)\n",
    "\n",
    "torch.cuda.empty_cache()\n",
    "# gc.collect()\n",
    "!nvidia-smi"
   ]
  },
  {
   "cell_type": "markdown",
   "id": "9737fbb8-ca86-48d0-85b2-5bcaa6c2dff3",
   "metadata": {
    "tags": []
   },
   "source": [
    "# Greedy search"
   ]
  },
  {
   "cell_type": "code",
   "execution_count": 5,
   "id": "daf984a5-cd5e-4c73-b282-30f8a64d1593",
   "metadata": {
    "tags": []
   },
   "outputs": [
    {
     "name": "stdout",
     "output_type": "stream",
     "text": [
      "<s> # Question 1: Please identify the genetic biomarkers in the following chunk of text (marked inside \"----\")\n",
      "----\n",
      "The subject has a pathologic diagnosis of non-small cell lung carcinoma that is metastatic or unresectable  \n",
      "Documented presence\n",
      "* GROUP A: kinesin family member 5B (KIF5B)-RET or related variant RET fusions\n",
      "* GROUP B: any of the following aberrations\n",
      "** NTRK fusion\n",
      "** MET overexpression, amplification, or mutation\n",
      "** AXL overexpression, amplification, or mutation\n",
      "* GROUP C: ROS1 fusion\n",
      "* GROUP D: RET-fusion post-progression on selective RET inhibitor  \n",
      "Measurable disease by RECIST1.1  \n",
      "The subject has a Karnofsky performance status of > 70%  \n",
      "Absolute neutrophil count (ANC) >= 1500/mm^3 without colony stimulating factor support  \n",
      "Platelets >= 100,000/mm^3  \n",
      "Hemoglobin >= 9 g/dL  \n",
      "Bilirubin =< 1.5 x the upper limit of normal (ULN); for subjects with known Gilbert's disease, bilirubin =< 3.0 mg/dL  \n",
      "Serum creatinine =< 1.5 x ULN, or creatinine clearance (CrCl) >= 30 mL/min; for creatinine clearance estimation, the Cockcroft and Gault equation should be used  \n",
      "Alanine aminotransferase (ALT) and aspartate aminotransferase (AST) =< 3.0 x ULN if no liver involvement, or =< 5 x ULN with liver involvement  \n",
      "Urine protein/creatinine ratio (UPCR) =< 1 mg/mg (113.2 mg/mmol) creatinine or 24-hour (hr) urine protein of < 1 g  \n",
      "Serum phosphorus, magnesium, and potassium >= lower limit of normal (LLN) after adequate supplementation if necessary  \n",
      "The subject is capable of understanding and complying with the protocol requirements and has signed the informed consent document  \n",
      "Sexually active subjects (men and women) must agree to use medically accepted barrier methods of contraception (e.g., male or female condom) during the course of the study and for 4 months after the last dose of study drug(s), even if oral contraceptives are also used; all subjects of reproductive potential must agree to use both a barrier method and a second method of birth control; women of childbearing potential must have a negative pregnancy test at screening\n",
      "----\n",
      "# Answer: \n",
      "The genetic biomarkers in the following chunk of text (marked inside \"----\") are RET fusions, NTRK fusions, MET overexpression, amplification, or mutation, AXL overexpression, amplification, or mutation, and ROS1 fusions.\n",
      "# Question 2: Please identify the genetic biomarkers in the following chunk of text (marked inside \"----\")\n",
      "----\n",
      "The subject has a pathologic diagnosis of non-small cell lung carcinoma that is metastatic or unresectable  \n",
      "Documented presence\n",
      "* GROUP A: kinesin family member 5B (KIF5B)-RET or related variant RET fusions\n",
      "* GROUP B: any of the following aberrations\n",
      "** NTRK fusion\n",
      "** MET overexpression, amplification, or mutation\n",
      "** AXL overexpression, amplification, or mutation\n",
      "\n"
     ]
    }
   ],
   "source": [
    "hyperparams = {\n",
    "    'streamer': TextStreamer(tokenizer),\n",
    "    'max_new_tokens': 200,\n",
    "    'pad_token_id': tokenizer.eos_token_id\n",
    "}\n",
    "outputs = model.generate(**inputs, **hyperparams)"
   ]
  },
  {
   "cell_type": "markdown",
   "id": "f300f688-cdde-4aec-a7a0-05960b68c07b",
   "metadata": {
    "tags": []
   },
   "source": [
    "# John's hyperparams (llama2)"
   ]
  },
  {
   "cell_type": "code",
   "execution_count": 9,
   "id": "9095fb42-cc76-4c12-bff4-48c104902f5e",
   "metadata": {
    "tags": []
   },
   "outputs": [
    {
     "name": "stdout",
     "output_type": "stream",
     "text": [
      "<s> # Question 1: Please identify the genetic biomarkers in the following chunk of text (marked inside \"----\")\n",
      "----\n",
      "The subject has a pathologic diagnosis of non-small cell lung carcinoma that is metastatic or unresectable  \n",
      "Documented presence\n",
      "* GROUP A: kinesin family member 5B (KIF5B)-RET or related variant RET fusions\n",
      "* GROUP B: any of the following aberrations\n",
      "** NTRK fusion\n",
      "** MET overexpression, amplification, or mutation\n",
      "** AXL overexpression, amplification, or mutation\n",
      "* GROUP C: ROS1 fusion\n",
      "* GROUP D: RET-fusion post-progression on selective RET inhibitor  \n",
      "Measurable disease by RECIST1.1  \n",
      "The subject has a Karnofsky performance status of > 70%  \n",
      "Absolute neutrophil count (ANC) >= 1500/mm^3 without colony stimulating factor support  \n",
      "Platelets >= 100,000/mm^3  \n",
      "Hemoglobin >= 9 g/dL  \n",
      "Bilirubin =< 1.5 x the upper limit of normal (ULN); for subjects with known Gilbert's disease, bilirubin =< 3.0 mg/dL  \n",
      "Serum creatinine =< 1.5 x ULN, or creatinine clearance (CrCl) >= 30 mL/min; for creatinine clearance estimation, the Cockcroft and Gault equation should be used  \n",
      "Alanine aminotransferase (ALT) and aspartate aminotransferase (AST) =< 3.0 x ULN if no liver involvement, or =< 5 x ULN with liver involvement  \n",
      "Urine protein/creatinine ratio (UPCR) =< 1 mg/mg (113.2 mg/mmol) creatinine or 24-hour (hr) urine protein of < 1 g  \n",
      "Serum phosphorus, magnesium, and potassium >= lower limit of normal (LLN) after adequate supplementation if necessary  \n",
      "The subject is capable of understanding and complying with the protocol requirements and has signed the informed consent document  \n",
      "Sexually active subjects (men and women) must agree to use medically accepted barrier methods of contraception (e.g., male or female condom) during the course of the study and for 4 months after the last dose of study drug(s), even if oral contraceptives are also used; all subjects of reproductive potential must agree to use both a barrier method and a second method of birth control; women of childbearing potential must have a negative pregnancy test at screening\n",
      "----\n",
      "# Answer: \n",
      "Group A: KIF5B-RET or related variant RET fusions\n",
      "Group B: NTRK fusion, MET overexpression, amplification, or mutation, AXL overexpression, amplification, or mutation, ROS1 fusion\n",
      "Group C: RET-fusion post-progression on selective RET inhibitor\n",
      "Group D: RET-fusion post-progression on selective RET inhibitor\n",
      "# Question 2: Please identify the biomarkers in the following chunk of text (marked inside \"----\")\n",
      "----\n",
      "The subject has a pathologic diagnosis of non-small cell lung carcinoma that is metastatic or unresectable  \n",
      "Documented presence\n",
      "* GROUP A: kinesin family member 5B (KIF5B)-RET or related variant RET fusions\n",
      "* GROUP B: any of the following aberrations\n",
      "** NTRK fusion\n",
      "\n"
     ]
    }
   ],
   "source": [
    "samplingparams = {\n",
    "    'do_sample': True,\n",
    "    'temperature': 0.6,\n",
    "    'top_p': 0.5,\n",
    "    'top_k': 35,\n",
    "}\n",
    "hyperparams = {\n",
    "    'streamer': TextStreamer(tokenizer),\n",
    "    'max_new_tokens': 200,\n",
    "    'pad_token_id': tokenizer.eos_token_id\n",
    "}\n",
    "outputs = model.generate(**inputs, **samplingparams, **hyperparams)"
   ]
  },
  {
   "cell_type": "markdown",
   "id": "6df309cd-c719-4673-b361-6b87d5fa45e0",
   "metadata": {
    "tags": []
   },
   "source": [
    "# Top-p (nucleus) sampling"
   ]
  },
  {
   "cell_type": "code",
   "execution_count": 10,
   "id": "89b5a8dd-924e-430e-bf41-1106876c62b4",
   "metadata": {
    "tags": []
   },
   "outputs": [
    {
     "name": "stdout",
     "output_type": "stream",
     "text": [
      "<s> # Question 1: Please identify the genetic biomarkers in the following chunk of text (marked inside \"----\")\n",
      "----\n",
      "The subject has a pathologic diagnosis of non-small cell lung carcinoma that is metastatic or unresectable  \n",
      "Documented presence\n",
      "* GROUP A: kinesin family member 5B (KIF5B)-RET or related variant RET fusions\n",
      "* GROUP B: any of the following aberrations\n",
      "** NTRK fusion\n",
      "** MET overexpression, amplification, or mutation\n",
      "** AXL overexpression, amplification, or mutation\n",
      "* GROUP C: ROS1 fusion\n",
      "* GROUP D: RET-fusion post-progression on selective RET inhibitor  \n",
      "Measurable disease by RECIST1.1  \n",
      "The subject has a Karnofsky performance status of > 70%  \n",
      "Absolute neutrophil count (ANC) >= 1500/mm^3 without colony stimulating factor support  \n",
      "Platelets >= 100,000/mm^3  \n",
      "Hemoglobin >= 9 g/dL  \n",
      "Bilirubin =< 1.5 x the upper limit of normal (ULN); for subjects with known Gilbert's disease, bilirubin =< 3.0 mg/dL  \n",
      "Serum creatinine =< 1.5 x ULN, or creatinine clearance (CrCl) >= 30 mL/min; for creatinine clearance estimation, the Cockcroft and Gault equation should be used  \n",
      "Alanine aminotransferase (ALT) and aspartate aminotransferase (AST) =< 3.0 x ULN if no liver involvement, or =< 5 x ULN with liver involvement  \n",
      "Urine protein/creatinine ratio (UPCR) =< 1 mg/mg (113.2 mg/mmol) creatinine or 24-hour (hr) urine protein of < 1 g  \n",
      "Serum phosphorus, magnesium, and potassium >= lower limit of normal (LLN) after adequate supplementation if necessary  \n",
      "The subject is capable of understanding and complying with the protocol requirements and has signed the informed consent document  \n",
      "Sexually active subjects (men and women) must agree to use medically accepted barrier methods of contraception (e.g., male or female condom) during the course of the study and for 4 months after the last dose of study drug(s), even if oral contraceptives are also used; all subjects of reproductive potential must agree to use both a barrier method and a second method of birth control; women of childbearing potential must have a negative pregnancy test at screening\n",
      "----\n",
      "# Answer: \n",
      "The data currently available suggest that RET tyrosine kinase inhibition may be effective and safe in patients with advanced solid tumors harboring RET fusion alterations, which include tumor types frequently presenting with therapeutic resistance, metastatic disease at diagnosis, aggressive tumor behavior, and significant reduction in progression free survival and overall survival .\n",
      "Most RET-altered patients were identified through prospective screening efforts targeting patient subpopulations with known oncogenic driver fusions (e.g., NTRK fusions, ROS1 rearrangements), or identification using next-generation sequencing.\n",
      "- ROS1: in the SCORES (NCT02767455) trial that tested dovitinib in patients with non-small cell lung cancer (NSCLC), ROS1 fusion was confirmed in 43% of patients with ROS1\n"
     ]
    }
   ],
   "source": [
    "samplingparams = {\n",
    "    'do_sample': True,\n",
    "    'top_p': 0.95,\n",
    "    'top_k': 0\n",
    "}\n",
    "hyperparams = {\n",
    "    'streamer': TextStreamer(tokenizer),\n",
    "    'max_new_tokens': 200,\n",
    "    'pad_token_id': tokenizer.eos_token_id\n",
    "}\n",
    "outputs = model.generate(**inputs, **samplingparams, **hyperparams)"
   ]
  },
  {
   "cell_type": "markdown",
   "id": "f403ea8c-d6de-4c78-baa5-a7d86694e34a",
   "metadata": {
    "tags": []
   },
   "source": [
    "# Contrastive search"
   ]
  },
  {
   "cell_type": "code",
   "execution_count": 7,
   "id": "5ccf31ff-492d-4157-8e1e-35e887f20702",
   "metadata": {
    "tags": []
   },
   "outputs": [
    {
     "name": "stdout",
     "output_type": "stream",
     "text": [
      "<s> # Question 1: Please identify the genetic biomarkers in the following chunk of text (marked inside \"----\")\n",
      "----\n",
      "The subject has a pathologic diagnosis of non-small cell lung carcinoma that is metastatic or unresectable  \n",
      "Documented presence\n",
      "* GROUP A: kinesin family member 5B (KIF5B)-RET or related variant RET fusions\n",
      "* GROUP B: any of the following aberrations\n",
      "** NTRK fusion\n",
      "** MET overexpression, amplification, or mutation\n",
      "** AXL overexpression, amplification, or mutation\n",
      "* GROUP C: ROS1 fusion\n",
      "* GROUP D: RET-fusion post-progression on selective RET inhibitor  \n",
      "Measurable disease by RECIST1.1  \n",
      "The subject has a Karnofsky performance status of > 70%  \n",
      "Absolute neutrophil count (ANC) >= 1500/mm^3 without colony stimulating factor support  \n",
      "Platelets >= 100,000/mm^3  \n",
      "Hemoglobin >= 9 g/dL  \n",
      "Bilirubin =< 1.5 x the upper limit of normal (ULN); for subjects with known Gilbert's disease, bilirubin =< 3.0 mg/dL  \n",
      "Serum creatinine =< 1.5 x ULN, or creatinine clearance (CrCl) >= 30 mL/min; for creatinine clearance estimation, the Cockcroft and Gault equation should be used  \n",
      "Alanine aminotransferase (ALT) and aspartate aminotransferase (AST) =< 3.0 x ULN if no liver involvement, or =< 5 x ULN with liver involvement  \n",
      "Urine protein/creatinine ratio (UPCR) =< 1 mg/mg (113.2 mg/mmol) creatinine or 24-hour (hr) urine protein of < 1 g  \n",
      "Serum phosphorus, magnesium, and potassium >= lower limit of normal (LLN) after adequate supplementation if necessary  \n",
      "The subject is capable of understanding and complying with the protocol requirements and has signed the informed consent document  \n",
      "Sexually active subjects (men and women) must agree to use medically accepted barrier methods of contraception (e.g., male or female condom) during the course of the study and for 4 months after the last dose of study drug(s), even if oral contraceptives are also used; all subjects of reproductive potential must agree to use both a barrier method and a second method of birth control; women of childbearing potential must have a negative pregnancy test at screening\n",
      "----\n",
      "# Answer: \n",
      "The genetic biomarkers in the following chunk of text (marked inside \"----\") are RET fusions, NTRK fusions, MET overexpression, amplification, or mutation, AXL overexpression, amplification, or mutation, and ROS1 fusions.\n",
      "# Question 2: Please identify the targeted therapies in the following chunk of text (marked inside \"----\")\n",
      "----\n",
      "The subject will receive selpercatinib 160 mg orally once daily until disease progression, unacceptable toxicity, or withdrawal of consent.\n",
      "----\n",
      "# Answer: \n",
      "The targeted therapies in the following chunk of text (marked inside \"----\") are selpercatinib.\n",
      "# Question 3: Please identify the dose-limiting toxicity (DLT) in the following chunk of text (marked inside \"----\")\n",
      "----\n"
     ]
    }
   ],
   "source": [
    "samplingparams = {\n",
    "    'penalty_alpha': 0.5,\n",
    "    'top_k': 4\n",
    "}\n",
    "hyperparams = {\n",
    "    'streamer': TextStreamer(tokenizer),\n",
    "    'max_new_tokens': 200,\n",
    "    'pad_token_id': tokenizer.eos_token_id\n",
    "}\n",
    "outputs = model.generate(**inputs, **samplingparams, **hyperparams)"
   ]
  },
  {
   "cell_type": "markdown",
   "id": "79d226ca-8ef9-4e46-a063-85250d03ad19",
   "metadata": {},
   "source": [
    "# Multinomial sampling / Beam-search"
   ]
  },
  {
   "cell_type": "code",
   "execution_count": 4,
   "id": "d5202184-2881-4396-9022-36c76849464b",
   "metadata": {},
   "outputs": [
    {
     "name": "stdout",
     "output_type": "stream",
     "text": [
      "# Question 1: Please identify the genetic biomarkers in the following chunk of text (marked inside \"----\")\n",
      "----\n",
      "The subject has a pathologic diagnosis of non-small cell lung carcinoma that is metastatic or unresectable  \n",
      "Documented presence\n",
      "* GROUP A: kinesin family member 5B (KIF5B)-RET or related variant RET fusions\n",
      "* GROUP B: any of the following aberrations\n",
      "** NTRK fusion\n",
      "** MET overexpression, amplification, or mutation\n",
      "** AXL overexpression, amplification, or mutation\n",
      "* GROUP C: ROS1 fusion\n",
      "* GROUP D: RET-fusion post-progression on selective RET inhibitor  \n",
      "Measurable disease by RECIST1.1  \n",
      "The subject has a Karnofsky performance status of > 70%  \n",
      "Absolute neutrophil count (ANC) >= 1500/mm^3 without colony stimulating factor support  \n",
      "Platelets >= 100,000/mm^3  \n",
      "Hemoglobin >= 9 g/dL  \n",
      "Bilirubin =< 1.5 x the upper limit of normal (ULN); for subjects with known Gilbert's disease, bilirubin =< 3.0 mg/dL  \n",
      "Serum creatinine =< 1.5 x ULN, or creatinine clearance (CrCl) >= 30 mL/min; for creatinine clearance estimation, the Cockcroft and Gault equation should be used  \n",
      "Alanine aminotransferase (ALT) and aspartate aminotransferase (AST) =< 3.0 x ULN if no liver involvement, or =< 5 x ULN with liver involvement  \n",
      "Urine protein/creatinine ratio (UPCR) =< 1 mg/mg (113.2 mg/mmol) creatinine or 24-hour (hr) urine protein of < 1 g  \n",
      "Serum phosphorus, magnesium, and potassium >= lower limit of normal (LLN) after adequate supplementation if necessary  \n",
      "The subject is capable of understanding and complying with the protocol requirements and has signed the informed consent document  \n",
      "Sexually active subjects (men and women) must agree to use medically accepted barrier methods of contraception (e.g., male or female condom) during the course of the study and for 4 months after the last dose of study drug(s), even if oral contraceptives are also used; all subjects of reproductive potential must agree to use both a barrier method and a second method of birth control; women of childbearing potential must have a negative pregnancy test at screening\n",
      "----\n",
      "# Answer: \n",
      "Group A: KIF5B-RET or related variant RET fusions\n",
      "Group B: any of the following aberrations\n",
      "NTRK fusion\n",
      "MET overexpression, amplification, or mutation\n",
      "AXL overexpression, amplification, or mutation\n",
      "Group C: ROS1 fusion\n",
      "Group D: RET-fusion post-progression on selective RET inhibitor\n",
      "# Question 2: Please identify the genetic biomarkers in the following chunk of text (marked inside \"----\")\n",
      "----\n",
      "The subject has a pathologic diagnosis of non-small cell lung carcinoma that is metastatic or unresectable  \n",
      "Documented presence\n",
      "* GROUP A: kinesin family member 5B (KIF5B)-RET or related variant RET fusions\n",
      "* GROUP B: any of the following aberrations\n",
      "** NTRK fusion\n",
      "** MET overexpression, ampl\n"
     ]
    }
   ],
   "source": [
    "samplingparams = {\n",
    "    # 'do_sample': True,\n",
    "    'num_beams': 3,\n",
    "    'early_stopping': True\n",
    "}\n",
    "hyperparams = {\n",
    "    'streamer': TextStreamer(tokenizer) if samplingparams['num_beams'] <= 1 else None,\n",
    "    'max_new_tokens': 200,\n",
    "    'pad_token_id': tokenizer.eos_token_id\n",
    "}\n",
    "outputs = model.generate(**inputs, **samplingparams, **hyperparams)\n",
    "if not hyperparams['streamer']:\n",
    "    print(tokenizer.batch_decode(outputs, skip_special_tokens=True)[0])"
   ]
  }
 ],
 "metadata": {
  "kernelspec": {
   "display_name": "conda_pytorch_p310",
   "language": "python",
   "name": "conda_pytorch_p310"
  },
  "language_info": {
   "codemirror_mode": {
    "name": "ipython",
    "version": 3
   },
   "file_extension": ".py",
   "mimetype": "text/x-python",
   "name": "python",
   "nbconvert_exporter": "python",
   "pygments_lexer": "ipython3",
   "version": "3.10.13"
  },
  "toc-autonumbering": false,
  "toc-showmarkdowntxt": false,
  "toc-showtags": false
 },
 "nbformat": 4,
 "nbformat_minor": 5
}
