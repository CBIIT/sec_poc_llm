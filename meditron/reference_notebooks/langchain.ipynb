{
 "cells": [
  {
   "cell_type": "code",
   "execution_count": null,
   "id": "f7ba50b6-5861-4d08-9c39-1b66f2ea3962",
   "metadata": {
    "jupyter": {
     "source_hidden": true
    },
    "tags": []
   },
   "outputs": [],
   "source": [
    "!pip install -U langchain\n",
    "# !pip install -U transformers accelerate"
   ]
  },
  {
   "cell_type": "code",
   "execution_count": 1,
   "id": "7cd92bc7-5663-431c-a2d2-3cf0d58657bc",
   "metadata": {
    "tags": []
   },
   "outputs": [
    {
     "name": "stderr",
     "output_type": "stream",
     "text": [
      "/home/ec2-user/anaconda3/envs/pytorch_p310/lib/python3.10/site-packages/transformers/models/auto/configuration_auto.py:1067: FutureWarning: The `use_auth_token` argument is deprecated and will be removed in v5 of Transformers. Please use `token` instead.\n",
      "  warnings.warn(\n",
      "/home/ec2-user/anaconda3/envs/pytorch_p310/lib/python3.10/site-packages/transformers/models/auto/auto_factory.py:472: FutureWarning: The `use_auth_token` argument is deprecated and will be removed in v5 of Transformers. Please use `token` instead.\n",
      "  warnings.warn(\n"
     ]
    },
    {
     "data": {
      "application/vnd.jupyter.widget-view+json": {
       "model_id": "192b26ee8e7147d68b5363119f5b98c5",
       "version_major": 2,
       "version_minor": 0
      },
      "text/plain": [
       "Loading checkpoint shards:   0%|          | 0/8 [00:00<?, ?it/s]"
      ]
     },
     "metadata": {},
     "output_type": "display_data"
    },
    {
     "name": "stdout",
     "output_type": "stream",
     "text": [
      "Model loaded on cuda:0\n"
     ]
    }
   ],
   "source": [
    "from torch import cuda, bfloat16\n",
    "import transformers\n",
    "\n",
    "token=\"\"\n",
    "model_id=\"epfl-llm/meditron-7b\"\n",
    "\n",
    "device = f'cuda:{cuda.current_device()}' if cuda.is_available() else 'cpu'\n",
    "\n",
    "# set quantization configuration to load large model with less GPU memory\n",
    "# this requires the `bitsandbytes` library\n",
    "bnb_config = transformers.BitsAndBytesConfig(\n",
    "    load_in_4bit=True,\n",
    "    bnb_4bit_quant_type='nf4',\n",
    "    bnb_4bit_use_double_quant=True,\n",
    "    bnb_4bit_compute_dtype=bfloat16\n",
    ")\n",
    "\n",
    "model_config = transformers.AutoConfig.from_pretrained(\n",
    "    model_id,\n",
    "    use_auth_token=token\n",
    ")\n",
    "\n",
    "model = transformers.AutoModelForCausalLM.from_pretrained(\n",
    "    model_id,\n",
    "    trust_remote_code=True,\n",
    "    config=model_config,\n",
    "    quantization_config=bnb_config,\n",
    "    device_map='auto',\n",
    "    use_auth_token=token\n",
    ")\n",
    "\n",
    "# enable evaluation mode to allow model inference\n",
    "model.eval()\n",
    "\n",
    "print(f\"Model loaded on {device}\")"
   ]
  },
  {
   "cell_type": "code",
   "execution_count": 2,
   "id": "ff316e1d-fb1e-4f42-b355-62bb3ca1261e",
   "metadata": {
    "tags": []
   },
   "outputs": [
    {
     "name": "stderr",
     "output_type": "stream",
     "text": [
      "/home/ec2-user/anaconda3/envs/pytorch_p310/lib/python3.10/site-packages/transformers/models/auto/tokenization_auto.py:690: FutureWarning: The `use_auth_token` argument is deprecated and will be removed in v5 of Transformers. Please use `token` instead.\n",
      "  warnings.warn(\n",
      "Special tokens have been added in the vocabulary, make sure the associated word embeddings are fine-tuned or trained.\n"
     ]
    }
   ],
   "source": [
    "tokenizer = transformers.AutoTokenizer.from_pretrained(\n",
    "    model_id,\n",
    "    use_auth_token=token\n",
    ")"
   ]
  },
  {
   "cell_type": "code",
   "execution_count": 7,
   "id": "04f39ab6-37dc-453b-96d7-6aa0bd2041a9",
   "metadata": {
    "tags": []
   },
   "outputs": [
    {
     "data": {
      "text/plain": [
       "[[29871, 13, 29896]]"
      ]
     },
     "execution_count": 7,
     "metadata": {},
     "output_type": "execute_result"
    }
   ],
   "source": [
    "stop_list = [\"\\n1\"]\n",
    "# stop_list = ['\\nHuman:', '\\n```\\n']\n",
    "\n",
    "stop_token_ids = [tokenizer(x, add_special_tokens=False)['input_ids'] for x in stop_list]\n",
    "stop_token_ids"
   ]
  },
  {
   "cell_type": "code",
   "execution_count": 8,
   "id": "67307a13-b193-484c-8078-2acb9f54c397",
   "metadata": {
    "tags": []
   },
   "outputs": [
    {
     "data": {
      "text/plain": [
       "[tensor([29871,    13, 29896], device='cuda:0')]"
      ]
     },
     "execution_count": 8,
     "metadata": {},
     "output_type": "execute_result"
    }
   ],
   "source": [
    "import torch\n",
    "\n",
    "stop_token_ids = [torch.LongTensor(x).to(device) for x in stop_token_ids]\n",
    "stop_token_ids"
   ]
  },
  {
   "cell_type": "code",
   "execution_count": 9,
   "id": "9fa767d9-357b-46f3-b755-a9138b7140e8",
   "metadata": {
    "tags": []
   },
   "outputs": [],
   "source": [
    "from transformers import StoppingCriteria, StoppingCriteriaList\n",
    "\n",
    "# define custom stopping criteria object\n",
    "class StopOnTokens(StoppingCriteria):\n",
    "    def __call__(self, input_ids: torch.LongTensor, scores: torch.FloatTensor, **kwargs) -> bool:\n",
    "        for stop_ids in stop_token_ids:\n",
    "            if torch.eq(input_ids[0][-len(stop_ids):], stop_ids).all():\n",
    "                return True\n",
    "        return False\n",
    "\n",
    "stopping_criteria = StoppingCriteriaList([StopOnTokens()])"
   ]
  },
  {
   "cell_type": "code",
   "execution_count": 10,
   "id": "ccafe4fc-06a1-4d2d-954e-5e903db02bad",
   "metadata": {
    "tags": []
   },
   "outputs": [],
   "source": [
    "from transformers import TextStreamer\n",
    "\n",
    "generate_text = transformers.pipeline(\n",
    "    model=model, \n",
    "    tokenizer=tokenizer,\n",
    "    return_full_text=True,  # langchain expects the full text\n",
    "    task='text-generation',\n",
    "    # we pass model parameters here too\n",
    "    stopping_criteria=stopping_criteria,  # without this model rambles during chat\n",
    "    do_sample=True,\n",
    "    early_stopping=True,\n",
    "    pad_token_id=tokenizer.eos_token_id,\n",
    "    temperature=0.1,  # 'randomness' of outputs, 0.0 is the min and 1.0 the max\n",
    "    max_new_tokens=256,  # max number of tokens to generate in the output\n",
    "    repetition_penalty=1.1,  # without this output begins repeating\n",
    "    streamer=TextStreamer(tokenizer)\n",
    ")"
   ]
  },
  {
   "cell_type": "code",
   "execution_count": null,
   "id": "c96c378f-ded1-4898-a6d7-2afa35a54189",
   "metadata": {
    "tags": []
   },
   "outputs": [],
   "source": [
    "res = generate_text(\"Human: What are some common biomakers studied in cancer research?\")\n",
    "print(res[0][\"generated_text\"])"
   ]
  },
  {
   "cell_type": "code",
   "execution_count": null,
   "id": "04b15be0-18c5-40e5-94b1-f4ef9fdb1878",
   "metadata": {
    "tags": []
   },
   "outputs": [
    {
     "name": "stdout",
     "output_type": "stream",
     "text": [
      "\n",
      "\n",
      "\u001b[1m> Entering new LLMChain chain...\u001b[0m\n",
      "Prompt after formatting:\n",
      "\u001b[32;1m\u001b[1;3mHuman: \n",
      "0:    Sentence:      Signed informed consent must be obtained prior to performing any specific pre-screening and screening procedure.\n",
      "1:    biomarkers:    none\n",
      "2:    Sentence:      Male or female >= 18 years of age at the time of informed consent\n",
      "3:    biomarkers:    none\n",
      "4:    Sentence:      Histologically or cytologically confirmed diagnosis of advanced/metastatic differentiated thyroid cancer\n",
      "5:    biomarkers:    none\n",
      "6:    Sentence:      BRAFV600E mutation positive tumor sample as per Novartis designated central laboratory result\n",
      "7:    biomarkers:    BRAFV600E\n",
      "8:    Sentence:      Concomitant RET Fusion Positive Thyroid cancer\n",
      "9:    biomarkers:    RET Fusion Positive\n",
      "10:   Sentence:      Participants must be ‚â• 18 years of age\n",
      "11:   biomarkers:    \u001b[0m\n",
      "of Human: \n",
      "0:    Sentence:      Signed informed consent must be obtained prior to performing any specific pre-screening and screening procedure.\n",
      "1:    biomarkers:    none\n",
      "2:    Sentence:      Male or female >= 18 years of age at the time of informed consent\n",
      "3:    biomarkers:    none\n",
      "4:    Sentence:      Histologically or cytologically confirmed diagnosis of advanced/metastatic differentiated thyroid cancer\n",
      "5:    biomarkers:    none\n",
      "6:    Sentence:      BRAFV600E mutation positive tumor sample as per Novartis designated central laboratory result\n",
      "7:    biomarkers:    BRAFV600E\n",
      "8:    Sentence:      Concomitant RET Fusion Positive Thyroid cancer\n",
      "9:    biomarkers:    RET Fusion Positive\n",
      "10:   Sentence:      Participants must be ‚â• 18 years of age\n",
      "11:   biomarkers:    "
     ]
    },
    {
     "name": "stderr",
     "output_type": "stream",
     "text": [
      "/home/ec2-user/anaconda3/envs/pytorch_p310/lib/python3.10/site-packages/transformers/generation/configuration_utils.py:430: UserWarning: `num_beams` is set to 1. However, `early_stopping` is set to `True` -- this flag is only used in beam-based generation modes. You should set `num_beams>1` or unset `early_stopping`.\n",
      "  warnings.warn(\n"
     ]
    },
    {
     "name": "stdout",
     "output_type": "stream",
     "text": [
      "\n",
      "12:   Sentence:      Participants must have a histologically or cytologically confirmed diagnosis of advanced/metastatic differentiated thyroid cancer\n",
      "13:   biomarkers:    \n",
      "14:   Sentence:      Participants must have a BRAF V600E mutation positive tumor sample as per Novartis designated central laboratory result\n",
      "15:   biomarkers:    \n",
      "16:   Sentence:      Participants must have a concomitant RET fusion positive thyroid cancer\n",
      "17:   "
     ]
    }
   ],
   "source": [
    "from langchain.llms import HuggingFacePipeline\n",
    "from langchain.chains import LLMChain\n",
    "from langchain.prompts import (\n",
    "    ChatPromptTemplate,\n",
    "    HumanMessagePromptTemplate,\n",
    "    MessagesPlaceholder,\n",
    "    SystemMessagePromptTemplate,\n",
    ")\n",
    "from langchain.memory import ConversationBufferMemory\n",
    "\n",
    "\n",
    "llm = HuggingFacePipeline(pipeline=generate_text)\n",
    "\n",
    "prompt = ChatPromptTemplate(\n",
    "    messages=[\n",
    "        # SystemMessagePromptTemplate.from_template(\n",
    "        #     \"You are a helpful, respectful and honest assistant.\" + \\\n",
    "        # \"Always answer as helpfully as possible, while being safe.\" + \\\n",
    "        # \"Your answers should not include any harmful, unethical, racist, sexist, toxic, dangerous, or illegal content.\" + \\\n",
    "        # \"Please ensure that your responses are socially unbiased and positive in nature.\\n\\n\" + \\\n",
    "        # \"If a question does not make any sense, or is not factually coherent, explain why instead of answering something not correct.\" + \\\n",
    "        # \"If you don't know the answer to a question, please don't share false information.\"\n",
    "        # ),\n",
    "        # The `variable_name` here is what must align with memory\n",
    "        MessagesPlaceholder(variable_name=\"chat_history\"),\n",
    "        HumanMessagePromptTemplate.from_template(\"\"\"\n",
    "0:    Sentence:      Signed informed consent must be obtained prior to performing any specific pre-screening and screening procedure.\n",
    "1:    biomarkers:    none\n",
    "2:    Sentence:      Male or female >= 18 years of age at the time of informed consent\n",
    "3:    biomarkers:    none\n",
    "4:    Sentence:      Histologically or cytologically confirmed diagnosis of advanced/metastatic differentiated thyroid cancer\n",
    "5:    biomarkers:    none\n",
    "6:    Sentence:      BRAFV600E mutation positive tumor sample as per Novartis designated central laboratory result\n",
    "7:    biomarkers:    BRAFV600E\n",
    "8:    Sentence:      Concomitant RET Fusion Positive Thyroid cancer\n",
    "9:    biomarkers:    RET Fusion Positive\n",
    "10:   Sentence:      {question}\n",
    "11:   biomarkers:    \"\"\"),\n",
    "    ]\n",
    ")\n",
    "\n",
    "# Notice that we `return_messages=True` to fit into the MessagesPlaceholder\n",
    "# Notice that `\"chat_history\"` aligns with the MessagesPlaceholder name\n",
    "memory = ConversationBufferMemory(memory_key=\"chat_history\", return_messages=True)\n",
    "conversation = LLMChain(llm=llm, prompt=prompt, verbose=True, memory=memory)\n",
    "\n",
    "conversation({\"question\": \"Participants must be ‚â• 18 years of age\"})"
   ]
  }
 ],
 "metadata": {
  "kernelspec": {
   "display_name": "conda_pytorch_p310",
   "language": "python",
   "name": "conda_pytorch_p310"
  },
  "language_info": {
   "codemirror_mode": {
    "name": "ipython",
    "version": 3
   },
   "file_extension": ".py",
   "mimetype": "text/x-python",
   "name": "python",
   "nbconvert_exporter": "python",
   "pygments_lexer": "ipython3",
   "version": "3.10.13"
  }
 },
 "nbformat": 4,
 "nbformat_minor": 5
}
