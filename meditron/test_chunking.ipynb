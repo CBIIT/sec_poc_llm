{
 "cells": [
  {
   "cell_type": "code",
   "execution_count": 1,
   "id": "1021d0e2-364a-4abf-a3ef-02a75d4b949c",
   "metadata": {
    "tags": []
   },
   "outputs": [
    {
     "data": {
      "application/vnd.jupyter.widget-view+json": {
       "model_id": "ffcd837afac04042b298fd0d93741900",
       "version_major": 2,
       "version_minor": 0
      },
      "text/plain": [
       "Loading checkpoint shards:   0%|          | 0/8 [00:00<?, ?it/s]"
      ]
     },
     "metadata": {},
     "output_type": "display_data"
    },
    {
     "name": "stderr",
     "output_type": "stream",
     "text": [
      "Special tokens have been added in the vocabulary, make sure the associated word embeddings are fine-tuned or trained.\n"
     ]
    },
    {
     "name": "stdout",
     "output_type": "stream",
     "text": [
      "Model loaded on cuda:0\n"
     ]
    }
   ],
   "source": [
    "from model import *"
   ]
  },
  {
   "cell_type": "code",
   "execution_count": 2,
   "id": "ba54b270-f43c-4917-bad2-519aa4ab9f75",
   "metadata": {
    "tags": []
   },
   "outputs": [
    {
     "name": "stdout",
     "output_type": "stream",
     "text": [
      "[tensor([29871,    13,    13], device='cuda:0'), tensor([29871,    13,    13,    13], device='cuda:0'), tensor([ 9330, 29901,    13, 21140,   340], device='cuda:0')]\n"
     ]
    }
   ],
   "source": [
    "from transformers import StoppingCriteria, StoppingCriteriaList\n",
    "import torch\n",
    "\n",
    "stop_list = [\"\\n\\n\", \"\\n\\n\\n\", \"Task:\\nBelow\"]\n",
    "# stop_list = ['\\nHuman:', '\\n```\\n']\n",
    "stop_token_ids = [tokenizer(x, add_special_tokens=False)['input_ids'] for x in stop_list]\n",
    "stop_token_ids = [torch.LongTensor(x).to(device) for x in stop_token_ids]\n",
    "print(stop_token_ids)\n",
    "\n",
    "# define custom stopping criteria object\n",
    "class StopOnTokens(StoppingCriteria):\n",
    "    def __call__(self, input_ids: torch.LongTensor, scores: torch.FloatTensor, **kwargs) -> bool:\n",
    "        for stop_ids in stop_token_ids:\n",
    "            if torch.eq(input_ids[0][-len(stop_ids):], stop_ids).all():\n",
    "                return True\n",
    "        return False\n",
    "\n",
    "stopping_criteria = StoppingCriteriaList([StopOnTokens()])"
   ]
  },
  {
   "cell_type": "code",
   "execution_count": 3,
   "id": "ba3167ac-85da-4355-b0a0-89cff695084d",
   "metadata": {
    "tags": []
   },
   "outputs": [],
   "source": [
    "from langchain.llms import HuggingFacePipeline\n",
    "\n",
    "generate_text = transformers.pipeline(\n",
    "    model=model,\n",
    "    tokenizer=tokenizer,\n",
    "    return_full_text=True,  # langchain expects the full text\n",
    "    task='text-generation',\n",
    "    # we pass model parameters here too\n",
    "    stopping_criteria=stopping_criteria,  # without this model rambles during chat\n",
    "    temperature=0.1,  # 'randomness' of outputs, 0.0 is the min and 1.0 the max\n",
    "    max_new_tokens=256,  # max number of tokens to generate in the output\n",
    "    repetition_penalty=1.1,  # without this output begins repeating\n",
    "    do_sample=True,\n",
    "    # streamer = transformers.TextStreamer(tokenizer)\n",
    ")\n",
    "\n",
    "llm = HuggingFacePipeline(pipeline=generate_text)"
   ]
  },
  {
   "cell_type": "code",
   "execution_count": 4,
   "id": "a7985891-8fdb-4303-878b-fd1da5be075b",
   "metadata": {
    "tags": []
   },
   "outputs": [],
   "source": [
    "%load_ext autoreload\n",
    "%autoreload 2\n",
    "\n",
    "from prompt_examples.chunked_examples import prompt, examples\n"
   ]
  },
  {
   "cell_type": "code",
   "execution_count": null,
   "id": "535ade9f-85ad-428a-b333-b6276cbad97a",
   "metadata": {
    "tags": []
   },
   "outputs": [],
   "source": [
    "print(prompt.format(criteria=\"\"\"Inclusion Criteria:\n",
    "    •\tAdults with a confirmed diagnosis of unresectable, locally advanced and/or metastatic Stage IIIB/IV NSCLC, Stage III/IV PDAC and/or Stage III/IV CRC with no curative-intent treatment options and documented activating KRAS mutation (without known additional actionable driver mutations such as EGFR, ALK or ROS1)\n",
    "    •\tDocumented progression and measurable disease after ‚â• 1 prior line of systemic therapy (‚â• 2 and ‚â§ 4 prior lines for NSCLC) with adequate washout period and resolution of treatment-related toxicities to ‚â§ Grade 2\n",
    "    •\tECOG PS of 0-2 (0-1 for PDAC) and a life expectancy > 3 months in the opinion of the Investigator\n",
    "    •\tAdequate hematological, liver, and renal function\n",
    "    •\tMen and women of childbearing potential must use adequate birth control measures for the duration of the trial and at least 90 days after discontinuing study treatment\n",
    "    •\tSymptomatic and/or untreated CNS or brain metastasis, pre-existing ILD or pericardial/pleural effusion of ‚â• grade 2 or requiring chronic oxygen therapy for COPD or pleural effusions\n",
    "    •\tSerious concomitant disorder including infection\n",
    "    •\tKnown positive test for HIV, HCV, HBV surface antigen\n",
    "\n",
    "    Exclusion Criteria:\n",
    "    •\tConcurrent malignancy in the previous 2 years\n",
    "    •\tPrior menin inhibitor therapy\n",
    "    •\tRequiring treatment with a strong or moderate CYP3A inhibitor/inducer\n",
    "    •\tSignificant cardiovascular disease or QTcF or QTcB prolongation.\n",
    "    •\tMajor surgery within 4 weeks prior to first dose\n",
    "    •\tWomen who are pregnant or lactating.\n",
    "\"\"\"))"
   ]
  },
  {
   "cell_type": "code",
   "execution_count": 8,
   "id": "54f23e97-3728-4061-bb95-6b0b6842b3de",
   "metadata": {
    "tags": []
   },
   "outputs": [
    {
     "name": "stdout",
     "output_type": "stream",
     "text": [
      "  avg prompt: 794\n",
      "  min prompt: 702\n",
      "  max prompt: 947\n",
      "avg response: 220\n"
     ]
    }
   ],
   "source": [
    "from token_counting import *\n",
    "globalize_token_metrics(examples)\n",
    "print('  avg prompt:', AVG_PROMPT_LEN)\n",
    "print('  min prompt:', MIN_PROMPT_LEN)\n",
    "print('  max prompt:', MAX_PROMPT_LEN)\n",
    "print('avg response:', AVG_RES_LEN)"
   ]
  },
  {
   "cell_type": "code",
   "execution_count": 9,
   "id": "1d423e3b-69ce-44cb-b451-b2aee94db13a",
   "metadata": {
    "tags": []
   },
   "outputs": [],
   "source": [
    "from chunking import *"
   ]
  },
  {
   "cell_type": "code",
   "execution_count": 10,
   "id": "fca9e975-e69c-4acd-8254-e02a8253357a",
   "metadata": {
    "tags": []
   },
   "outputs": [],
   "source": [
    "from langchain.chains import LLMChain\n",
    "\n",
    "llm_chain = LLMChain(llm=llm, prompt=prompt)"
   ]
  },
  {
   "cell_type": "code",
   "execution_count": null,
   "id": "ad7f0f21-47d3-4b94-a160-c731a54e7731",
   "metadata": {
    "tags": []
   },
   "outputs": [],
   "source": [
    "import langchain\n",
    "langchain.debug = True\n",
    "langchain.verbose = True\n",
    "\n",
    "n = '06'\n",
    "folder = f'test_results/trial{n}'\n",
    "\n",
    "original_doc = parse_file(f'{folder}/unstructured_ec.txt')\n",
    "doc_chunks = chunk_ec(original_doc)\n",
    "doc_reassembled = ECDoc([], [])\n",
    "\n",
    "for idx, doc in enumerate(doc_chunks):\n",
    "    results = llm_chain.invoke(input={'criteria': str(doc)})\n",
    "    with open(f'{folder}/chunking_task_{idx}_output.txt', 'w', encoding='utf-8') as fileout:\n",
    "        fileout.write(results['text'])\n",
    "\n",
    "    doc_reassembled.inc.extend(doc.inc)\n",
    "    doc_reassembled.exc.extend(doc.exc)\n",
    "\n",
    "with open(f'{folder}/unstructured_ec_reassembled.txt', 'w') as docfile:\n",
    "        docfile.write(str(doc_reassembled).rstrip())"
   ]
  },
  {
   "cell_type": "code",
   "execution_count": 23,
   "id": "1e88d21e-7fa0-4ab1-9069-cb98e4c62357",
   "metadata": {
    "tags": []
   },
   "outputs": [],
   "source": [
    "# Copy the prompts that Langchain logs\n",
    "prompts_used = [\n",
    "    \"You are in the role of an abstractor who will analyze eligibility criteria for a clinical trial and represent the information as a list of individual criteria in a tabular format that will contain the following columns: \\nType: listing whether criterion is an Exclusion or Inclusion criterion\\nOriginal Text: the original text of the criterion\\nDisease/Condition: If the criterion contains a disease or condition name it by its canonical name\\nProcedure: If the criterion contains a therapeutic procedure name it by its canonical name\\nDrug:  If the criterion contains a therapeutic drug name it by its canonical name\\nBiomarker:  If the criterion contains a biomarker name it by its canonical name\\nComputable Rule: Translate the criteria into a logical expression that could be interpreted programmatically\\n    Inclusion Criteria\\n    •\\tParticipants must be ‚â• 18 years of age\\n    •\\tHistologically or cytologically confirmed diagnosis of metastatic solid tumors\\n    •\\tEastern Cooperative Oncology Group (ECOG) performance status 0-1\\n    •\\tAll participants should have at least 1 measurable disease per RECIST v1.1. An irradiated lesion can be considered measurable only if progression has been demonstrated on the irradiated lesion.\\n    •\\tBody weight within [45 - 150 kg] (inclusive)\\n    •\\tAll Contraceptive use by men and women should be consistent with local regulations regarding the methods of contraception for those participating in clinical studies.\\n    •\\tCapable of giving signed informed consent\\n    •\\tAny clinically significant cardiac disease\\n    •\\tHistory of or current interstitial lung disease or pneumonitis\\n\\n    Exclusion Criteria\\n    •\\tUncontrolled or unresolved acute renal failure\\n    •\\tPrior solid organ or hematologic transplant.\\n    •\\tKnown positivity with human immunodeficiency virus (HIV), known active hepatitis A, B, and C, or uncontrolled chronic or ongoing infectious requiring parenteral treatment.\\n    •\\tReceipt of a live-virus vaccination within 28 days of planned treatment start\\n    •\\tParticipation in a concurrent clinical study in the treatment period.\\n    •\\tInadequate hematologic, hepatic and renal function\\n    •\\tParticipant not suitable for participation, whatever the reason, as judged by the Investigator, including medical or clinical conditions.\\n\\n| Type | Original Text | Disease/Condition | Procedure | Drug | Biomarker | Computable Rule |\\n| --- | --- | --- | --- | --- | --- | --- |\\n| Inclusion | Histologically or cytologically confirmed diagnosis of metastatic solid tumors | Metastatic solid tumor | | | | diagnosis == \\\"Metastatic solid tumor\\\" |\\n| Exclusion | Prior solid organ or hematologic transplant. | | Solid organ transplantation | | | Solid organ transplantation is True |\\n\\n\\nYou are in the role of an abstractor who will analyze eligibility criteria for a clinical trial and represent the information as a list of individual criteria in a tabular format that will contain the following columns: \\nType: listing whether criterion is an Exclusion or Inclusion criterion\\nOriginal Text: the original text of the criterion\\nDisease/Condition: If the criterion contains a disease or condition name it by its canonical name\\nProcedure: If the criterion contains a therapeutic procedure name it by its canonical name\\nDrug:  If the criterion contains a therapeutic drug name it by its canonical name\\nBiomarker:  If the criterion contains a biomarker name it by its canonical name\\nComputable Rule: Translate the criteria into a logical expression that could be interpreted programmatically\\n    Inclusion Criteria\\n•\\tProvision of signed and dated informed consent form\\n•\\tStated willingness to comply with all study procedures and availability for the duration of the study\\n•\\tMale patients aged 18 years and older\\n•\\tIn good general health as evidenced by medical history to be a candidate for curative-intent prostate cancer treatment \\n•\\tAbility to receive pelvic radiotherapy and be willing to adhere to the SUPR-SABR regimen \\n•\\tPreviously untreated prostate cancer (with cytotoxic chemotherapy, cryotherapy, surgical or radiation therapy)\\n•\\tLocalized adenocarcinoma of the prostate with the following features\\n\\tcT1-T2c\\n\\tProstate specific antigen (PSA) < 20\\n\\t** Patients receiving a 5-alpha reductase inhibitor must have a PSA < 10\\n\\tGrade group 1-3\\n\\tLymph node negative\\n\\tNegative for distant metastases\\n•\\tProstate volume < 120 cc \\n•\\tHistory and physical including a digital rectal exam 90 days prior to registration \\n•\\tEastern Cooperative Oncology Group (ECOG) performance status 0-2\\n•\\tBe able to undergo MRI prostate and pelvis as a component of radiation therapy (RT) planning\\n•\\tBone and soft tissue imaging as clinically indicated (for unfavorable intermediate risk or symptomatic patients only) within 120 days prior to registration\\n•\\tInternational Prostate Symptom Score (IPSS) score =< 20 at time of initial history and physical with treating radiation oncologist\\n\\nExclusion Criteria\\n\\tConcurrent use of testosterone supplementation as it is contraindicated during prostate cancer treatment\\n\\tKnown homozygous for ATM pathogenic mutation\\n\\tPrior pelvic RT \\n\\tPre-existing conditions or overall health status which disqualifies the patient from curative- intent RT. Patients with life expectancy less than 10 years are not eligible\\n\\tPrior or concurrent invasive pelvic malignancy (except non-melanomatous skin cancer) or lymphomatous or hematogenous malignancy, unless disease free for a minimum of 5 years\\n\\tPrior prostatectomy, cryotherapy, high-intensity focused ultrasound directed towards the prostate for any prostate disease or condition\",\n",
    "]\n",
    "\n",
    "for idx, prompt_used in enumerate(prompts_used):\n",
    "    prompt_len = get_token_len(prompt_used)\n",
    "    with open(f'{folder}/chunking_task_{idx}_prompt.txt', 'w', encoding='utf-8') as fileout:\n",
    "        fileout.write(\"\"\"[metrics]\n",
    "length={prompt_len}\n",
    "\n",
    "[prompt]\n",
    "{prompt}\"\"\".format(prompt=prompt_used, prompt_len=prompt_len))"
   ]
  }
 ],
 "metadata": {
  "kernelspec": {
   "display_name": "conda_pytorch_p310",
   "language": "python",
   "name": "conda_pytorch_p310"
  },
  "language_info": {
   "codemirror_mode": {
    "name": "ipython",
    "version": 3
   },
   "file_extension": ".py",
   "mimetype": "text/x-python",
   "name": "python",
   "nbconvert_exporter": "python",
   "pygments_lexer": "ipython3",
   "version": "3.10.13"
  }
 },
 "nbformat": 4,
 "nbformat_minor": 5
}
