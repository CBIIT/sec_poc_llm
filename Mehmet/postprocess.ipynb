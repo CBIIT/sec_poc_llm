{
 "cells": [
  {
   "cell_type": "code",
   "execution_count": 1,
   "metadata": {},
   "outputs": [
    {
     "name": "stdout",
     "output_type": "stream",
     "text": [
      "['outputs/trial_01.json', 'outputs/trial_04.json', 'outputs/trial_05.json', 'outputs/trial_02.json', 'outputs/trial_03.json']\n"
     ]
    }
   ],
   "source": [
    "import glob\n",
    "import json\n",
    "from pathlib import Path\n",
    "\n",
    "files = glob.glob(\"outputs/*.json\")\n",
    "chats = {}\n",
    "print(files)\n",
    "for f in files:\n",
    "    with open(f) as filein:\n",
    "        chats[Path(f).stem] = json.load(filein)"
   ]
  },
  {
   "cell_type": "code",
   "execution_count": 4,
   "metadata": {},
   "outputs": [],
   "source": [
    "from itertools import zip_longest\n",
    "from models import *\n",
    "\n",
    "lines = []\n",
    "for trial_n, chat in chats.items():\n",
    "    for question in chat:\n",
    "        answers = [Answer(**a) for a in question[\"answers\"]]\n",
    "        source_texts = [SourceText(**t) for t in question[\"source_texts\"]]\n",
    "        zipped = zip_longest(source_texts, answers)\n",
    "        q_n = question[\"idx\"] + 1\n",
    "        q = question[\"question\"]\n",
    "        for source_text, answer in zipped:\n",
    "            lines.append((q_n, q, source_text, answer))"
   ]
  },
  {
   "cell_type": "code",
   "execution_count": 14,
   "metadata": {},
   "outputs": [],
   "source": [
    "import pandas as pd\n",
    "# import dataclasses\n",
    "\n",
    "df = pd.DataFrame(lines, columns=[\"Question #\", \"Question\", \"Source Text\", \"Answer\"])\n",
    "df[\"Source Text\"] = df[\"Source Text\"].apply(\n",
    "    lambda x: x.value if isinstance(x, SourceText) else x\n",
    ")\n",
    "df[\"Answer\"] = df[\"Answer\"].apply(lambda x: x.value if isinstance(x, Answer) else x)\n",
    "df.to_csv('source_&_answers.csv', index=False)"
   ]
  }
 ],
 "metadata": {
  "kernelspec": {
   "display_name": "venv",
   "language": "python",
   "name": "python3"
  },
  "language_info": {
   "codemirror_mode": {
    "name": "ipython",
    "version": 3
   },
   "file_extension": ".py",
   "mimetype": "text/x-python",
   "name": "python",
   "nbconvert_exporter": "python",
   "pygments_lexer": "ipython3",
   "version": "3.9.18"
  }
 },
 "nbformat": 4,
 "nbformat_minor": 2
}
