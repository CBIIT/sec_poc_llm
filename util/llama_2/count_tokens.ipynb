{
 "cells": [
  {
   "cell_type": "markdown",
   "source": [
    "# Counting Tokens for Llama 2\n",
    "\n",
    "This notebook tokenizes a prompt and outputs the number of tokens.  Useful if your are concerned that long prompts might exceed the Llama 2 4k context window.\n",
    "\n",
    "## Setup\n",
    "\n",
    "1. Clone the llama 2 [github repo](https://github.com/facebookresearch/llama).\n",
    "2. Follow the Quick Start steps in that repo's README.md.  You only need to get to the point where you start downloading the weights.  The file you need is tokenizer.model, and for me, it came quickly and I was able to abort the download without having to wait for the many GBs of weight files, which you don't need.\n",
    "3. Copy this notebook into the directory you cloned the llama repo in step 1, or otherwise set up the package structure as you like."
   ],
   "metadata": {
    "collapsed": false
   },
   "id": "7ea617415875ca98"
  },
  {
   "cell_type": "code",
   "execution_count": null,
   "outputs": [],
   "source": [
    "!pip install -r requirements.txt"
   ],
   "metadata": {
    "collapsed": false
   },
   "id": "1e971185f8e86ebe"
  },
  {
   "cell_type": "code",
   "execution_count": null,
   "outputs": [],
   "source": [
    "from llama import Tokenizer\n",
    "\n",
    "# Change to location where you downloaded the tokenizer.model\n",
    "tokenizer = Tokenizer('/path/to/tokenizer.model')\n",
    "\n",
    "# Change to location of prompt of interest\n",
    "PROMPT_FILE = '/path/to/prompt.txt'\n",
    "with open(PROMPT_FILE) as f:\n",
    "    s = f.read()\n",
    "\n",
    "tokens = tokenizer.encode(s, True, True)\n",
    "print('%s: %d words, %d tokens' % (PROMPT_FILE, len(s.split()), len(tokens)))"
   ],
   "metadata": {
    "collapsed": false
   },
   "id": "762aef15a3237af"
  }
 ],
 "metadata": {
  "kernelspec": {
   "display_name": "Python 3",
   "language": "python",
   "name": "python3"
  },
  "language_info": {
   "codemirror_mode": {
    "name": "ipython",
    "version": 2
   },
   "file_extension": ".py",
   "mimetype": "text/x-python",
   "name": "python",
   "nbconvert_exporter": "python",
   "pygments_lexer": "ipython2",
   "version": "2.7.6"
  }
 },
 "nbformat": 4,
 "nbformat_minor": 5
}
