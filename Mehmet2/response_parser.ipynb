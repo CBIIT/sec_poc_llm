{
 "cells": [
  {
   "cell_type": "code",
   "execution_count": 1,
   "metadata": {},
   "outputs": [],
   "source": [
    "from itertools import zip_longest\n",
    "\n",
    "\n",
    "def parse_response(text: str):\n",
    "    is_source_text, is_answer = False, False\n",
    "    source_text = \"\"\n",
    "    answers = []\n",
    "    conditions = []\n",
    "    for line in text.split(\"\\n\"):\n",
    "        if line.startswith(\"SOURCE-TEXT\"):\n",
    "            is_source_text, is_answer = True, False\n",
    "            line = line.removeprefix(\"SOURCE-TEXT\").removeprefix(\": \")\n",
    "        elif line.startswith(\"ANSWER\"):\n",
    "            is_source_text, is_answer = False, True\n",
    "            line = line.removeprefix(\"ANSWER\").removeprefix(\": \").removesuffix('.')\n",
    "\n",
    "        if is_source_text:\n",
    "            source_text += line\n",
    "        elif is_answer:\n",
    "            line_len = len(line)\n",
    "            answer = \"\"\n",
    "            condition = \"\"\n",
    "            inside_answer = False\n",
    "            for idx, char in enumerate(line):\n",
    "                # Beginning of an answer line\n",
    "                if idx == 0:\n",
    "                    assert char == \"[\", \"Answer should start with [[\"\n",
    "                # End of an answer line\n",
    "                elif idx == line_len - 1:\n",
    "                    assert char == \"]\", \"Answer should end with ]]\"\n",
    "                # Check if the token is beginning of answer sequence\n",
    "                elif char == \"[\" and line[idx - 1] == \"[\":\n",
    "                    inside_answer = True\n",
    "                    # If a condition exists from the last answer, save it\n",
    "                    if condition:\n",
    "                        conditions.append(condition.strip())\n",
    "                        condition = \"\"\n",
    "                # Check if the token is end of an answer sequence\n",
    "                elif char == \"]\" and line[idx + 1] == \"]\":\n",
    "                    inside_answer = False\n",
    "                    # If it is, save the completed answer\n",
    "                    answers.append(answer)\n",
    "                    answer = \"\"\n",
    "                elif inside_answer:\n",
    "                    answer += char\n",
    "                elif char != \"[\" and char != \"]\":\n",
    "                    # If it's not a bos or eos token and it's not an answer, then it must be a condition between answers\n",
    "                    condition += char\n",
    "    return source_text.strip(), list(zip_longest(answers, conditions))"
   ]
  },
  {
   "cell_type": "code",
   "execution_count": 2,
   "metadata": {},
   "outputs": [
    {
     "data": {
      "text/plain": [
       "('The inclusion criteria for the clinical trial protocol specify the following cancer biomarkers for breast cancer:Estrogen receptor (ER) and progesterone receptor (PR) =< 1% by immunohistochemistryHer-2/neu negative (0 or 1+ by immunohistochemistry OR not amplified by College of American Pathologists/American Society of Clinical Oncology [CAP/ASCO] standards) 1 .',\n",
       " [('Estrogen receptor =< 1%', None),\n",
       "  ('Progesterone receptor =< 1%', None),\n",
       "  ('Her-2/neu negative', None)])"
      ]
     },
     "execution_count": 2,
     "metadata": {},
     "output_type": "execute_result"
    }
   ],
   "source": [
    "parse_response(\"\"\"\n",
    "SOURCE-TEXT: The inclusion criteria for the clinical trial protocol specify the following cancer biomarkers for breast cancer:\n",
    "\n",
    "Estrogen receptor (ER) and progesterone receptor (PR) =< 1% by immunohistochemistry\n",
    "Her-2/neu negative (0 or 1+ by immunohistochemistry OR not amplified by College of American Pathologists/American Society of Clinical Oncology [CAP/ASCO] standards) 1 .\n",
    "\n",
    "ANSWER: [[Estrogen receptor =< 1%]]\n",
    "ANSWER: [[Progesterone receptor =< 1%]]\n",
    "ANSWER: [[Her-2/neu negative]]\n",
    "\"\"\")"
   ]
  }
 ],
 "metadata": {
  "kernelspec": {
   "display_name": "venv",
   "language": "python",
   "name": "python3"
  },
  "language_info": {
   "codemirror_mode": {
    "name": "ipython",
    "version": 3
   },
   "file_extension": ".py",
   "mimetype": "text/x-python",
   "name": "python",
   "nbconvert_exporter": "python",
   "pygments_lexer": "ipython3",
   "version": "3.9.18"
  }
 },
 "nbformat": 4,
 "nbformat_minor": 2
}
